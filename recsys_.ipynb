{
 "cells": [
  {
   "cell_type": "code",
   "execution_count": 3,
   "metadata": {
    "_cell_guid": "b1076dfc-b9ad-4769-8c92-a6c4dae69d19",
    "_uuid": "8f2839f25d086af736a60e9eeb907d3b93b6e0e5",
    "execution": {
     "iopub.execute_input": "2022-04-03T20:15:28.498827Z",
     "iopub.status.busy": "2022-04-03T20:15:28.498002Z",
     "iopub.status.idle": "2022-04-03T20:15:29.387516Z",
     "shell.execute_reply": "2022-04-03T20:15:29.386789Z",
     "shell.execute_reply.started": "2022-04-03T20:15:28.498787Z"
    }
   },
   "outputs": [],
   "source": [
    "import numpy as np\n",
    "import pandas as pd\n",
    "import matplotlib.pyplot as plt\n",
    "import seaborn as sns"
   ]
  },
  {
   "cell_type": "code",
   "execution_count": 4,
   "metadata": {
    "execution": {
     "iopub.execute_input": "2022-04-03T20:19:14.285619Z",
     "iopub.status.busy": "2022-04-03T20:19:14.285341Z",
     "iopub.status.idle": "2022-04-03T20:19:14.289011Z",
     "shell.execute_reply": "2022-04-03T20:19:14.288191Z",
     "shell.execute_reply.started": "2022-04-03T20:19:14.285573Z"
    }
   },
   "outputs": [
    {
     "data": {
      "text/html": [
       "<div>\n",
       "<style scoped>\n",
       "    .dataframe tbody tr th:only-of-type {\n",
       "        vertical-align: middle;\n",
       "    }\n",
       "\n",
       "    .dataframe tbody tr th {\n",
       "        vertical-align: top;\n",
       "    }\n",
       "\n",
       "    .dataframe thead th {\n",
       "        text-align: right;\n",
       "    }\n",
       "</style>\n",
       "<table border=\"1\" class=\"dataframe\">\n",
       "  <thead>\n",
       "    <tr style=\"text-align: right;\">\n",
       "      <th></th>\n",
       "      <th>userId</th>\n",
       "      <th>movieId</th>\n",
       "      <th>rating</th>\n",
       "      <th>timestamp</th>\n",
       "    </tr>\n",
       "  </thead>\n",
       "  <tbody>\n",
       "    <tr>\n",
       "      <th>0</th>\n",
       "      <td>1</td>\n",
       "      <td>2</td>\n",
       "      <td>3.5</td>\n",
       "      <td>2005-04-02 23:53:47</td>\n",
       "    </tr>\n",
       "    <tr>\n",
       "      <th>1</th>\n",
       "      <td>1</td>\n",
       "      <td>29</td>\n",
       "      <td>3.5</td>\n",
       "      <td>2005-04-02 23:31:16</td>\n",
       "    </tr>\n",
       "    <tr>\n",
       "      <th>2</th>\n",
       "      <td>1</td>\n",
       "      <td>32</td>\n",
       "      <td>3.5</td>\n",
       "      <td>2005-04-02 23:33:39</td>\n",
       "    </tr>\n",
       "    <tr>\n",
       "      <th>3</th>\n",
       "      <td>1</td>\n",
       "      <td>47</td>\n",
       "      <td>3.5</td>\n",
       "      <td>2005-04-02 23:32:07</td>\n",
       "    </tr>\n",
       "    <tr>\n",
       "      <th>4</th>\n",
       "      <td>1</td>\n",
       "      <td>50</td>\n",
       "      <td>3.5</td>\n",
       "      <td>2005-04-02 23:29:40</td>\n",
       "    </tr>\n",
       "  </tbody>\n",
       "</table>\n",
       "</div>"
      ],
      "text/plain": [
       "   userId  movieId  rating           timestamp\n",
       "0       1        2     3.5 2005-04-02 23:53:47\n",
       "1       1       29     3.5 2005-04-02 23:31:16\n",
       "2       1       32     3.5 2005-04-02 23:33:39\n",
       "3       1       47     3.5 2005-04-02 23:32:07\n",
       "4       1       50     3.5 2005-04-02 23:29:40"
      ]
     },
     "execution_count": 4,
     "metadata": {},
     "output_type": "execute_result"
    }
   ],
   "source": [
    "ratings = pd.read_csv(r'C:/Users/Educa/Desktop/military/p/rating.csv', parse_dates=['timestamp'])\n",
    "ratings.head()"
   ]
  },
  {
   "cell_type": "code",
   "execution_count": 5,
   "metadata": {
    "execution": {
     "iopub.execute_input": "2022-04-03T20:19:09.158521Z",
     "iopub.status.busy": "2022-04-03T20:19:09.158266Z",
     "iopub.status.idle": "2022-04-03T20:19:09.214135Z",
     "shell.execute_reply": "2022-04-03T20:19:09.213436Z",
     "shell.execute_reply.started": "2022-04-03T20:19:09.158490Z"
    }
   },
   "outputs": [
    {
     "data": {
      "text/html": [
       "<div>\n",
       "<style scoped>\n",
       "    .dataframe tbody tr th:only-of-type {\n",
       "        vertical-align: middle;\n",
       "    }\n",
       "\n",
       "    .dataframe tbody tr th {\n",
       "        vertical-align: top;\n",
       "    }\n",
       "\n",
       "    .dataframe thead th {\n",
       "        text-align: right;\n",
       "    }\n",
       "</style>\n",
       "<table border=\"1\" class=\"dataframe\">\n",
       "  <thead>\n",
       "    <tr style=\"text-align: right;\">\n",
       "      <th></th>\n",
       "      <th>movieId</th>\n",
       "      <th>title</th>\n",
       "      <th>genres</th>\n",
       "    </tr>\n",
       "  </thead>\n",
       "  <tbody>\n",
       "    <tr>\n",
       "      <th>0</th>\n",
       "      <td>1</td>\n",
       "      <td>Toy Story (1995)</td>\n",
       "      <td>Adventure|Animation|Children|Comedy|Fantasy</td>\n",
       "    </tr>\n",
       "    <tr>\n",
       "      <th>1</th>\n",
       "      <td>2</td>\n",
       "      <td>Jumanji (1995)</td>\n",
       "      <td>Adventure|Children|Fantasy</td>\n",
       "    </tr>\n",
       "    <tr>\n",
       "      <th>2</th>\n",
       "      <td>3</td>\n",
       "      <td>Grumpier Old Men (1995)</td>\n",
       "      <td>Comedy|Romance</td>\n",
       "    </tr>\n",
       "    <tr>\n",
       "      <th>3</th>\n",
       "      <td>4</td>\n",
       "      <td>Waiting to Exhale (1995)</td>\n",
       "      <td>Comedy|Drama|Romance</td>\n",
       "    </tr>\n",
       "    <tr>\n",
       "      <th>4</th>\n",
       "      <td>5</td>\n",
       "      <td>Father of the Bride Part II (1995)</td>\n",
       "      <td>Comedy</td>\n",
       "    </tr>\n",
       "  </tbody>\n",
       "</table>\n",
       "</div>"
      ],
      "text/plain": [
       "   movieId                               title  \\\n",
       "0        1                    Toy Story (1995)   \n",
       "1        2                      Jumanji (1995)   \n",
       "2        3             Grumpier Old Men (1995)   \n",
       "3        4            Waiting to Exhale (1995)   \n",
       "4        5  Father of the Bride Part II (1995)   \n",
       "\n",
       "                                        genres  \n",
       "0  Adventure|Animation|Children|Comedy|Fantasy  \n",
       "1                   Adventure|Children|Fantasy  \n",
       "2                               Comedy|Romance  \n",
       "3                         Comedy|Drama|Romance  \n",
       "4                                       Comedy  "
      ]
     },
     "execution_count": 5,
     "metadata": {},
     "output_type": "execute_result"
    }
   ],
   "source": [
    "movies = pd.read_csv(r'C:\\Users\\Educa\\Downloads\\movie.csv')\n",
    "movies.head()"
   ]
  },
  {
   "cell_type": "code",
   "execution_count": 78,
   "metadata": {
    "execution": {
     "iopub.execute_input": "2022-04-03T18:33:29.830970Z",
     "iopub.status.busy": "2022-04-03T18:33:29.830683Z",
     "iopub.status.idle": "2022-04-03T18:33:30.004677Z",
     "shell.execute_reply": "2022-04-03T18:33:30.003633Z",
     "shell.execute_reply.started": "2022-04-03T18:33:29.830939Z"
    }
   },
   "outputs": [],
   "source": [
    "movies = movies[movies['movieId'].isin(ratings['movieId'].unique())]\n",
    "genres = list(movies['genres'].str.split('|').explode().unique())\n",
    "len(genres)"
   ]
  },
  {
   "cell_type": "code",
   "execution_count": 6,
   "metadata": {
    "execution": {
     "iopub.execute_input": "2022-04-03T20:20:07.532966Z",
     "iopub.status.busy": "2022-04-03T20:20:07.532707Z",
     "iopub.status.idle": "2022-04-03T20:20:07.558057Z",
     "shell.execute_reply": "2022-04-03T20:20:07.557386Z",
     "shell.execute_reply.started": "2022-04-03T20:20:07.532937Z"
    }
   },
   "outputs": [],
   "source": [
    "# Достанем год выпуска фильма\n",
    "movies['year'] = movies['title'].map(lambda x: x[x.find('(')+1:x.find(')')])"
   ]
  },
  {
   "cell_type": "code",
   "execution_count": 9,
   "metadata": {
    "execution": {
     "iopub.execute_input": "2022-04-03T20:29:02.731089Z",
     "iopub.status.busy": "2022-04-03T20:29:02.730843Z",
     "iopub.status.idle": "2022-04-03T20:29:05.118955Z",
     "shell.execute_reply": "2022-04-03T20:29:05.118307Z",
     "shell.execute_reply.started": "2022-04-03T20:29:02.731062Z"
    }
   },
   "outputs": [
    {
     "data": {
      "image/png": "[encoded data removed]",
      "text/plain": [
       "<Figure size 720x864 with 3 Axes>"
      ]
     },
     "metadata": {
      "needs_background": "light"
     },
     "output_type": "display_data"
    }
   ],
   "source": [
    "# Посмотрим, как менялась популярность 3 самых просматриваемых фильмов\n",
    "popular_movies = ratings[ratings['movieId'].isin(ratings['movieId'].value_counts()[:3].index)]\n",
    "popular_movies.head()\n",
    "\n",
    "fig, axes = plt.subplots(3, figsize=(10, 12))\n",
    "\n",
    "sns.histplot(popular_movies.query('movieId == 296')['timestamp'], ax=axes[0])\n",
    "axes[0].set_title(list(movies.query('movieId == 296').title)[0])\n",
    "sns.histplot(popular_movies.query('movieId == 318')['timestamp'], ax=axes[1])\n",
    "axes[1].set_title(list(movies.query('movieId == 318').title)[0])\n",
    "sns.histplot(popular_movies.query('movieId == 356')['timestamp'], ax=axes[2])\n",
    "axes[2].set_title(list(movies.query('movieId == 356').title)[0])\n",
    "\n",
    "plt.show()"
   ]
  },
  {
   "cell_type": "code",
   "execution_count": 10,
   "metadata": {
    "execution": {
     "iopub.execute_input": "2022-04-03T20:31:13.633463Z",
     "iopub.status.busy": "2022-04-03T20:31:13.633197Z",
     "iopub.status.idle": "2022-04-03T20:31:14.776848Z",
     "shell.execute_reply": "2022-04-03T20:31:14.776099Z",
     "shell.execute_reply.started": "2022-04-03T20:31:13.633432Z"
    }
   },
   "outputs": [],
   "source": [
    "# Оставим фильмы, которые просматривали больше 4 раз\n",
    "movie_frec = ratings['movieId'].value_counts()\n",
    "ratings = ratings[ratings['movieId'].isin(movie_frec[movie_frec >= 5].index)]"
   ]
  },
  {
   "cell_type": "code",
   "execution_count": 11,
   "metadata": {
    "execution": {
     "iopub.execute_input": "2022-04-03T20:31:18.716073Z",
     "iopub.status.busy": "2022-04-03T20:31:18.715812Z",
     "iopub.status.idle": "2022-04-03T20:31:18.864371Z",
     "shell.execute_reply": "2022-04-03T20:31:18.863637Z",
     "shell.execute_reply.started": "2022-04-03T20:31:18.716045Z"
    }
   },
   "outputs": [],
   "source": [
    "users_inv_mapping = dict(enumerate(ratings['userId'].unique()))\n",
    "users_mapping = {v: k for k, v in users_inv_mapping.items()}"
   ]
  },
  {
   "cell_type": "code",
   "execution_count": 12,
   "metadata": {
    "execution": {
     "iopub.execute_input": "2022-04-03T20:31:21.655497Z",
     "iopub.status.busy": "2022-04-03T20:31:21.655143Z",
     "iopub.status.idle": "2022-04-03T20:31:21.781582Z",
     "shell.execute_reply": "2022-04-03T20:31:21.780738Z",
     "shell.execute_reply.started": "2022-04-03T20:31:21.655365Z"
    }
   },
   "outputs": [
    {
     "data": {
      "text/plain": [
       "18345"
      ]
     },
     "execution_count": 12,
     "metadata": {},
     "output_type": "execute_result"
    }
   ],
   "source": [
    "items_inv_mapping = dict(enumerate(np.sort(ratings['movieId'].unique())))\n",
    "items_mapping = {v: k for k, v in items_inv_mapping.items()}\n",
    "len(items_mapping)"
   ]
  },
  {
   "cell_type": "code",
   "execution_count": 13,
   "metadata": {
    "execution": {
     "iopub.execute_input": "2022-04-03T20:31:30.613558Z",
     "iopub.status.busy": "2022-04-03T20:31:30.613116Z",
     "iopub.status.idle": "2022-04-03T20:31:31.302922Z",
     "shell.execute_reply": "2022-04-03T20:31:31.302244Z",
     "shell.execute_reply.started": "2022-04-03T20:31:30.613474Z"
    }
   },
   "outputs": [
    {
     "name": "stdout",
     "output_type": "stream",
     "text": [
      "Количество пользователей: 138493\n",
      "Количество фильмов: 18345\n"
     ]
    }
   ],
   "source": [
    "print(f\"Количество пользователей: {ratings['userId'].nunique()}\")\n",
    "print(f\"Количество фильмов: {ratings['movieId'].nunique()}\")"
   ]
  },
  {
   "cell_type": "code",
   "execution_count": 14,
   "metadata": {
    "execution": {
     "iopub.execute_input": "2022-04-03T20:31:53.118673Z",
     "iopub.status.busy": "2022-04-03T20:31:53.118398Z",
     "iopub.status.idle": "2022-04-03T20:31:53.235839Z",
     "shell.execute_reply": "2022-04-03T20:31:53.234949Z",
     "shell.execute_reply.started": "2022-04-03T20:31:53.118641Z"
    }
   },
   "outputs": [
    {
     "name": "stdout",
     "output_type": "stream",
     "text": [
      "min дата в ratings: 1995-01-09 11:46:44\n",
      "max дата в ratings: 2015-03-31 06:40:02\n"
     ]
    }
   ],
   "source": [
    "max_date = ratings['timestamp'].max()\n",
    "min_date = ratings['timestamp'].min()\n",
    "\n",
    "print(f\"min дата в ratings: {min_date}\")\n",
    "print(f\"max дата в ratings: {max_date}\")"
   ]
  },
  {
   "cell_type": "code",
   "execution_count": 15,
   "metadata": {
    "execution": {
     "iopub.execute_input": "2022-04-03T20:31:54.571661Z",
     "iopub.status.busy": "2022-04-03T20:31:54.571376Z",
     "iopub.status.idle": "2022-04-03T20:31:55.258252Z",
     "shell.execute_reply": "2022-04-03T20:31:55.257345Z",
     "shell.execute_reply.started": "2022-04-03T20:31:54.571628Z"
    }
   },
   "outputs": [],
   "source": [
    "# Делим датасет на тренировочную и тестовую часть\n",
    "train = ratings[(ratings['timestamp'] < max_date - pd.Timedelta(days=7))]\n",
    "test = ratings[(ratings['timestamp'] >= max_date - pd.Timedelta(days=7))]"
   ]
  },
  {
   "cell_type": "code",
   "execution_count": 16,
   "metadata": {
    "execution": {
     "iopub.execute_input": "2022-04-03T20:32:00.708049Z",
     "iopub.status.busy": "2022-04-03T20:32:00.707476Z",
     "iopub.status.idle": "2022-04-03T20:32:00.823060Z",
     "shell.execute_reply": "2022-04-03T20:32:00.822370Z",
     "shell.execute_reply.started": "2022-04-03T20:32:00.708009Z"
    }
   },
   "outputs": [],
   "source": [
    "# Будем предсказывать только на горячих пользователях\n",
    "test = test[test['userId'].isin(train['userId'].unique())]"
   ]
  },
  {
   "cell_type": "code",
   "execution_count": 17,
   "metadata": {
    "execution": {
     "iopub.execute_input": "2022-04-03T20:32:05.731096Z",
     "iopub.status.busy": "2022-04-03T20:32:05.730435Z",
     "iopub.status.idle": "2022-04-03T20:32:05.747676Z",
     "shell.execute_reply": "2022-04-03T20:32:05.746923Z",
     "shell.execute_reply.started": "2022-04-03T20:32:05.731058Z"
    }
   },
   "outputs": [
    {
     "name": "stderr",
     "output_type": "stream",
     "text": [
      "c:\\python396\\lib\\site-packages\\tqdm\\auto.py:22: TqdmWarning: IProgress not found. Please update jupyter and ipywidgets. See https://ipywidgets.readthedocs.io/en/stable/user_install.html\n",
      "  from .autonotebook import tqdm as notebook_tqdm\n"
     ]
    }
   ],
   "source": [
    "import scipy.sparse as sp\n",
    "from itertools import islice, cycle\n",
    "from more_itertools import pairwise\n",
    "from tqdm.auto import tqdm\n",
    "\n",
    "def get_coo_matrix(df, \n",
    "                   user_col='userId', \n",
    "                   item_col='movieId', \n",
    "                   weight_col='rating', \n",
    "                   users_mapping=users_mapping, \n",
    "                   items_mapping=items_mapping):\n",
    "    if weight_col is None:\n",
    "        weights = np.ones(len(df), dtype=np.float32)\n",
    "    else:\n",
    "        weights = df[weight_col].astype(np.float32)\n",
    "\n",
    "    interaction_matrix = sp.coo_matrix((\n",
    "        weights, \n",
    "        (\n",
    "            df[user_col].map(users_mapping.get), \n",
    "            df[item_col].map(items_mapping.get)\n",
    "        )\n",
    "    ))\n",
    "    return interaction_matrix"
   ]
  },
  {
   "cell_type": "code",
   "execution_count": 18,
   "metadata": {
    "execution": {
     "iopub.execute_input": "2022-04-03T20:41:49.865872Z",
     "iopub.status.busy": "2022-04-03T20:41:49.865197Z",
     "iopub.status.idle": "2022-04-03T20:41:49.874732Z",
     "shell.execute_reply": "2022-04-03T20:41:49.873982Z",
     "shell.execute_reply.started": "2022-04-03T20:41:49.865833Z"
    }
   },
   "outputs": [],
   "source": [
    "def compute_metrics(df_true, df_pred, top_N):\n",
    "    result = {}\n",
    "    test_recs = df_true.set_index(['userId', 'movieId']).join(df_pred.set_index(['userId', 'movieId']))\n",
    "    test_recs = test_recs.sort_values(by=['userId', 'rank'])\n",
    "\n",
    "    test_recs['users_item_count'] = test_recs.groupby(level='userId')['rank'].transform(np.size)\n",
    "    test_recs['reciprocal_rank'] = (1 / test_recs['rank']).fillna(0)\n",
    "    test_recs['cumulative_rank'] = test_recs.groupby(level='userId').cumcount() + 1\n",
    "    test_recs['cumulative_rank'] = test_recs['cumulative_rank'] / test_recs['rank']\n",
    "    \n",
    "    users_count = test_recs.index.get_level_values('userId').nunique()\n",
    "    k = top_N\n",
    "    hit_k = f'hit@{k}'\n",
    "    test_recs[hit_k] = test_recs['rank'] <= k\n",
    "    result[f'Precision@{k}'] = (test_recs[hit_k] / k).sum() / users_count\n",
    "    result[f'Recall@{k}'] = (test_recs[hit_k] / test_recs['users_item_count']).sum() / users_count\n",
    "\n",
    "    result[f'MAP@{top_N}'] = (test_recs[\"cumulative_rank\"] / test_recs[\"users_item_count\"]).sum() / users_count\n",
    "    result[f'MRR'] = test_recs.groupby(level='userId')['reciprocal_rank'].max().mean()\n",
    "    return pd.Series(result)"
   ]
  },
  {
   "cell_type": "code",
   "execution_count": 19,
   "metadata": {
    "execution": {
     "iopub.execute_input": "2022-04-03T20:32:46.630877Z",
     "iopub.status.busy": "2022-04-03T20:32:46.630210Z",
     "iopub.status.idle": "2022-04-03T20:32:46.716122Z",
     "shell.execute_reply": "2022-04-03T20:32:46.715441Z",
     "shell.execute_reply.started": "2022-04-03T20:32:46.630837Z"
    }
   },
   "outputs": [],
   "source": [
    "from implicit.als import AlternatingLeastSquares\n",
    "\n",
    "def generate_implicit_recs_mapper(model, train_matrix, N, user_mapping, item_inv_mapping):\n",
    "    def _recs_mapper(user):\n",
    "        userId = user_mapping[user]\n",
    "        recs = model.recommend(userId, \n",
    "                               train_matrix, \n",
    "                               N=N, \n",
    "                               filter_already_liked_items=True)\n",
    "        return [item_inv_mapping[item] for item, _ in recs]\n",
    "    return _recs_mapper"
   ]
  },
  {
   "cell_type": "code",
   "execution_count": null,
   "metadata": {
    "execution": {
     "iopub.execute_input": "2022-04-03T20:40:26.205129Z",
     "iopub.status.busy": "2022-04-03T20:40:26.204874Z",
     "iopub.status.idle": "2022-04-03T20:41:10.630432Z",
     "shell.execute_reply": "2022-04-03T20:41:10.629441Z",
     "shell.execute_reply.started": "2022-04-03T20:40:26.205101Z"
    }
   },
   "outputs": [
    {
     "name": "stderr",
     "output_type": "stream",
     "text": [
      "c:\\python396\\lib\\site-packages\\implicit\\utils.py:26: UserWarning: OpenBLAS detected. Its highly recommend to set the environment variable 'export OPENBLAS_NUM_THREADS=1' to disable its internal multithreading\n",
      "  warnings.warn(\n",
      "  7%|█████▌                                                                             | 2/30 [00:31<07:31, 16.14s/it]"
     ]
    }
   ],
   "source": [
    "top_N = 15\n",
    "\n",
    "m = get_coo_matrix(train).tocsr()\n",
    "\n",
    "als_model = AlternatingLeastSquares(factors=32, iterations=30, num_threads=4)\n",
    "als_model.fit(m.T)\n",
    "\n",
    "mapper = generate_implicit_recs_mapper(als_model, m, top_N, users_mapping, items_inv_mapping)\n",
    "\n",
    "recs = pd.DataFrame({\n",
    "    'userId': test['userId'].unique()\n",
    "})\n",
    "recs['movieId'] = recs['userId'].map(mapper)\n",
    "recs = recs.explode('movieId')\n",
    "recs['rank'] = recs.groupby('userId').cumcount() + 1\n",
    "metrics = compute_metrics(test, recs, top_N)"
   ]
  },
  {
   "cell_type": "code",
   "execution_count": 64,
   "metadata": {
    "execution": {
     "iopub.execute_input": "2022-04-03T18:26:52.433352Z",
     "iopub.status.busy": "2022-04-03T18:26:52.432793Z",
     "iopub.status.idle": "2022-04-03T18:26:52.449530Z",
     "shell.execute_reply": "2022-04-03T18:26:52.448827Z",
     "shell.execute_reply.started": "2022-04-03T18:26:52.433324Z"
    }
   },
   "outputs": [],
   "source": [
    "metrics"
   ]
  },
  {
   "cell_type": "markdown",
   "metadata": {},
   "source": [
    "# LightFM"
   ]
  },
  {
   "cell_type": "code",
   "execution_count": 48,
   "metadata": {
    "execution": {
     "iopub.execute_input": "2022-04-03T17:57:54.971549Z",
     "iopub.status.busy": "2022-04-03T17:57:54.971214Z",
     "iopub.status.idle": "2022-04-03T17:57:54.976544Z",
     "shell.execute_reply": "2022-04-03T17:57:54.975679Z",
     "shell.execute_reply.started": "2022-04-03T17:57:54.971510Z"
    }
   },
   "outputs": [],
   "source": [
    "from lightfm.data import Dataset\n",
    "from lightfm import LightFM"
   ]
  },
  {
   "cell_type": "code",
   "execution_count": 85,
   "metadata": {
    "execution": {
     "iopub.execute_input": "2022-04-03T18:35:16.171628Z",
     "iopub.status.busy": "2022-04-03T18:35:16.171165Z",
     "iopub.status.idle": "2022-04-03T18:35:16.471724Z",
     "shell.execute_reply": "2022-04-03T18:35:16.470546Z",
     "shell.execute_reply.started": "2022-04-03T18:35:16.171599Z"
    }
   },
   "outputs": [],
   "source": [
    "dataset = Dataset()\n",
    "dataset.fit(ratings['userId'].unique(), ratings['movieId'].unique())"
   ]
  },
  {
   "cell_type": "code",
   "execution_count": 86,
   "metadata": {
    "execution": {
     "iopub.execute_input": "2022-04-03T18:35:18.221359Z",
     "iopub.status.busy": "2022-04-03T18:35:18.221072Z",
     "iopub.status.idle": "2022-04-03T18:35:18.226891Z",
     "shell.execute_reply": "2022-04-03T18:35:18.225613Z",
     "shell.execute_reply.started": "2022-04-03T18:35:18.221335Z"
    }
   },
   "outputs": [],
   "source": [
    "dataset.fit_partial(item_features=genres)"
   ]
  },
  {
   "cell_type": "code",
   "execution_count": 87,
   "metadata": {
    "execution": {
     "iopub.execute_input": "2022-04-03T18:35:20.701819Z",
     "iopub.status.busy": "2022-04-03T18:35:20.701494Z",
     "iopub.status.idle": "2022-04-03T18:35:20.710134Z",
     "shell.execute_reply": "2022-04-03T18:35:20.708839Z",
     "shell.execute_reply.started": "2022-04-03T18:35:20.701788Z"
    }
   },
   "outputs": [],
   "source": [
    "lightfm_mapping = dataset.mapping()\n",
    "lightfm_mapping = {\n",
    "    'users_mapping': lightfm_mapping[0],\n",
    "    'items_mapping': lightfm_mapping[2],\n",
    "    'item_features_mapping': lightfm_mapping[3],\n",
    "}\n",
    "print('users_mapping len - ', len(lightfm_mapping['users_mapping']))\n",
    "print('items_mapping len - ', len(lightfm_mapping['items_mapping']))\n",
    "print('Users item_features_mapping len - ', len(lightfm_mapping['item_features_mapping']))"
   ]
  },
  {
   "cell_type": "code",
   "execution_count": 113,
   "metadata": {
    "execution": {
     "iopub.execute_input": "2022-04-03T18:55:28.711136Z",
     "iopub.status.busy": "2022-04-03T18:55:28.710652Z",
     "iopub.status.idle": "2022-04-03T18:55:31.078231Z",
     "shell.execute_reply": "2022-04-03T18:55:31.076612Z",
     "shell.execute_reply.started": "2022-04-03T18:55:28.711101Z"
    }
   },
   "outputs": [],
   "source": [
    "# [(user_id1, item_id1, weight), (user_id2, item_id2, weight), ...]\n",
    "interactions_matrix, weights_matrix = dataset.build_interactions(\n",
    "    zip(*train[['userId', 'movieId', 'rating']].values.T)\n",
    ")"
   ]
  },
  {
   "cell_type": "code",
   "execution_count": 197,
   "metadata": {
    "execution": {
     "iopub.execute_input": "2022-04-03T19:21:46.798654Z",
     "iopub.status.busy": "2022-04-03T19:21:46.797787Z",
     "iopub.status.idle": "2022-04-03T19:21:46.805361Z",
     "shell.execute_reply": "2022-04-03T19:21:46.803619Z",
     "shell.execute_reply.started": "2022-04-03T19:21:46.798620Z"
    }
   },
   "outputs": [],
   "source": [
    "def concat_last_to_list(t):\n",
    "    return (t[0], list(t[1:])[0])\n",
    "\n",
    "def df_to_tuple_list_iterator(df):\n",
    "    return map(concat_last_to_list, zip(*df.values.T))"
   ]
  },
  {
   "cell_type": "code",
   "execution_count": 204,
   "metadata": {
    "execution": {
     "iopub.execute_input": "2022-04-03T19:24:09.117922Z",
     "iopub.status.busy": "2022-04-03T19:24:09.117621Z",
     "iopub.status.idle": "2022-04-03T19:24:09.285313Z",
     "shell.execute_reply": "2022-04-03T19:24:09.283548Z",
     "shell.execute_reply.started": "2022-04-03T19:24:09.117893Z"
    }
   },
   "outputs": [],
   "source": [
    "# (1, ['Adventure', 'Animation', 'Children', 'Comedy', 'Fantasy'])\n",
    "movies = movies[movies['movieId'].isin(ratings['movieId'].unique())]\n",
    "\n",
    "train_items_features = dataset.build_item_features(\n",
    "    df_to_tuple_list_iterator(\n",
    "        movies[['movieId', 'features']]\n",
    "    )\n",
    ")\n",
    "train_items_features"
   ]
  },
  {
   "cell_type": "code",
   "execution_count": 220,
   "metadata": {
    "execution": {
     "iopub.execute_input": "2022-04-03T19:28:47.662803Z",
     "iopub.status.busy": "2022-04-03T19:28:47.661762Z",
     "iopub.status.idle": "2022-04-03T19:28:47.670057Z",
     "shell.execute_reply": "2022-04-03T19:28:47.668755Z",
     "shell.execute_reply.started": "2022-04-03T19:28:47.662764Z"
    }
   },
   "outputs": [],
   "source": [
    "lfm_model = LightFM(no_components=64, learning_rate=0.05, loss='warp', max_sampled=5, random_state=23)"
   ]
  },
  {
   "cell_type": "code",
   "execution_count": 285,
   "metadata": {
    "execution": {
     "iopub.execute_input": "2022-04-03T19:42:09.745350Z",
     "iopub.status.busy": "2022-04-03T19:42:09.745029Z",
     "iopub.status.idle": "2022-04-03T19:53:09.167801Z",
     "shell.execute_reply": "2022-04-03T19:53:09.166721Z",
     "shell.execute_reply.started": "2022-04-03T19:42:09.745311Z"
    }
   },
   "outputs": [],
   "source": [
    "num_epochs = 15\n",
    "for _ in tqdm(range(num_epochs), total=num_epochs):\n",
    "    lfm_model.fit_partial(\n",
    "        weights_matrix,\n",
    "        item_features=train_items_features,\n",
    "        num_threads=4\n",
    "    )"
   ]
  },
  {
   "cell_type": "code",
   "execution_count": 311,
   "metadata": {
    "execution": {
     "iopub.execute_input": "2022-04-03T20:04:20.198824Z",
     "iopub.status.busy": "2022-04-03T20:04:20.198309Z",
     "iopub.status.idle": "2022-04-03T20:04:20.209396Z",
     "shell.execute_reply": "2022-04-03T20:04:20.207860Z",
     "shell.execute_reply.started": "2022-04-03T20:04:20.198794Z"
    }
   },
   "outputs": [],
   "source": [
    "def generate_lightfm_recs_mapper(model, item_ids, known_items, item_features, N, user_mapping, item_inv_mapping, num_threads=4):\n",
    "    def _recs_mapper(user):\n",
    "        user_id = user_mapping[user]\n",
    "        recs = model.predict(user_id, item_ids, item_features=item_features, num_threads=num_threads)\n",
    "        \n",
    "        additional_N = len(known_items[user_id]) if user_id in known_items else 0\n",
    "        total_N = N + additional_N\n",
    "        top_cols = np.argpartition(recs, -np.arange(total_N))[-total_N:][::-1]\n",
    "        \n",
    "        final_recs = [item_inv_mapping[item] for item in top_cols]\n",
    "        if additional_N > 0:\n",
    "            filter_items = known_items[user_id]\n",
    "            final_recs = [item for item in final_recs if item not in filter_items]\n",
    "        return final_recs[:N]\n",
    "    return _recs_mapper"
   ]
  },
  {
   "cell_type": "code",
   "execution_count": 298,
   "metadata": {
    "execution": {
     "iopub.execute_input": "2022-04-03T20:01:38.864571Z",
     "iopub.status.busy": "2022-04-03T20:01:38.864304Z",
     "iopub.status.idle": "2022-04-03T20:01:38.869251Z",
     "shell.execute_reply": "2022-04-03T20:01:38.868514Z",
     "shell.execute_reply.started": "2022-04-03T20:01:38.864544Z"
    }
   },
   "outputs": [],
   "source": [
    "known_items = train.groupby('userId')['movieId'].apply(list).to_dict()\n",
    "len(known_items)\n",
    "\n",
    "all_cols = list(lightfm_mapping['items_mapping'].values())"
   ]
  },
  {
   "cell_type": "code",
   "execution_count": 324,
   "metadata": {
    "execution": {
     "iopub.execute_input": "2022-04-03T20:09:21.389583Z",
     "iopub.status.busy": "2022-04-03T20:09:21.389279Z",
     "iopub.status.idle": "2022-04-03T20:09:21.395195Z",
     "shell.execute_reply": "2022-04-03T20:09:21.394190Z",
     "shell.execute_reply.started": "2022-04-03T20:09:21.389554Z"
    }
   },
   "outputs": [],
   "source": [
    "mapper = generate_lightfm_recs_mapper(\n",
    "    lfm_model, \n",
    "    item_ids=all_cols, \n",
    "    known_items=known_items,\n",
    "    N=top_N,\n",
    "    item_features=train_items_features, \n",
    "    user_mapping=lightfm_mapping['users_mapping'],\n",
    "    item_inv_mapping=lightfm_mapping['items_inv_mapping'],\n",
    "    num_threads=4\n",
    ")\n",
    "\n",
    "recs['movieId'] = recs['userId'].map(mapper)\n",
    "\n",
    "recs = recs.explode('movieId')\n",
    "recs['rank'] = recs.groupby('userId').cumcount() + 1\n",
    "\n",
    "metrics = compute_metrics(test, recs, top_N)"
   ]
  },
  {
   "cell_type": "code",
   "execution_count": 325,
   "metadata": {
    "execution": {
     "iopub.execute_input": "2022-04-03T20:09:24.455939Z",
     "iopub.status.busy": "2022-04-03T20:09:24.455631Z",
     "iopub.status.idle": "2022-04-03T20:09:24.679730Z",
     "shell.execute_reply": "2022-04-03T20:09:24.678542Z",
     "shell.execute_reply.started": "2022-04-03T20:09:24.455897Z"
    }
   },
   "outputs": [],
   "source": [
    "metrics"
   ]
  }
 ],
 "metadata": {
  "kernelspec": {
   "display_name": "Python 3 (ipykernel)",
   "language": "python",
   "name": "python3"
  },
  "language_info": {
   "codemirror_mode": {
    "name": "ipython",
    "version": 3
   },
   "file_extension": ".py",
   "mimetype": "text/x-python",
   "name": "python",
   "nbconvert_exporter": "python",
   "pygments_lexer": "ipython3",
   "version": "3.9.6"
  }
 },
 "nbformat": 4,
 "nbformat_minor": 4
}
