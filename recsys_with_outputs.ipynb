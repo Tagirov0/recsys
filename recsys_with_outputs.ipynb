{
  "metadata": {
    "kernelspec": {
      "language": "python",
      "display_name": "Python 3",
      "name": "python3"
    },
    "language_info": {
      "name": "python",
      "version": "3.7.12",
      "mimetype": "text/x-python",
      "codemirror_mode": {
        "name": "ipython",
        "version": 3
      },
      "pygments_lexer": "ipython3",
      "nbconvert_exporter": "python",
      "file_extension": ".py"
    },
    "colab": {
      "name": "notebookacc4b6ec0e (1).ipynb",
      "provenance": [],
      "collapsed_sections": []
    },
    "accelerator": "GPU",
    "widgets": {
      "application/vnd.jupyter.widget-state+json": {
        "b7a1b73ebd294d4bbb9268006f30cf4c": {
          "model_module": "@jupyter-widgets/controls",
          "model_name": "HBoxModel",
          "model_module_version": "1.5.0",
          "state": {
            "_dom_classes": [],
            "_model_module": "@jupyter-widgets/controls",
            "_model_module_version": "1.5.0",
            "_model_name": "HBoxModel",
            "_view_count": null,
            "_view_module": "@jupyter-widgets/controls",
            "_view_module_version": "1.5.0",
            "_view_name": "HBoxView",
            "box_style": "",
            "children": [
              "IPY_MODEL_a0e28df9073b4044b013b515fe28ed37",
              "IPY_MODEL_ec671b6e40964c12a52ee73010498dee",
              "IPY_MODEL_059084db5f724744a3202902d1bd6733"
            ],
            "layout": "IPY_MODEL_21d63c2220e84dcdbe7cd8545a432adf"
          }
        },
        "a0e28df9073b4044b013b515fe28ed37": {
          "model_module": "@jupyter-widgets/controls",
          "model_name": "HTMLModel",
          "model_module_version": "1.5.0",
          "state": {
            "_dom_classes": [],
            "_model_module": "@jupyter-widgets/controls",
            "_model_module_version": "1.5.0",
            "_model_name": "HTMLModel",
            "_view_count": null,
            "_view_module": "@jupyter-widgets/controls",
            "_view_module_version": "1.5.0",
            "_view_name": "HTMLView",
            "description": "",
            "description_tooltip": null,
            "layout": "IPY_MODEL_f9ae5c311a9a43de8cbfdb7407077d41",
            "placeholder": "​",
            "style": "IPY_MODEL_8c04c371f031431fb23105ad9c4ec730",
            "value": "100%"
          }
        },
        "ec671b6e40964c12a52ee73010498dee": {
          "model_module": "@jupyter-widgets/controls",
          "model_name": "FloatProgressModel",
          "model_module_version": "1.5.0",
          "state": {
            "_dom_classes": [],
            "_model_module": "@jupyter-widgets/controls",
            "_model_module_version": "1.5.0",
            "_model_name": "FloatProgressModel",
            "_view_count": null,
            "_view_module": "@jupyter-widgets/controls",
            "_view_module_version": "1.5.0",
            "_view_name": "ProgressView",
            "bar_style": "success",
            "description": "",
            "description_tooltip": null,
            "layout": "IPY_MODEL_206de8d2bbb1494fadafc774b8032232",
            "max": 20,
            "min": 0,
            "orientation": "horizontal",
            "style": "IPY_MODEL_8cc7717058874f188dbeca71b3bf646d",
            "value": 20
          }
        },
        "059084db5f724744a3202902d1bd6733": {
          "model_module": "@jupyter-widgets/controls",
          "model_name": "HTMLModel",
          "model_module_version": "1.5.0",
          "state": {
            "_dom_classes": [],
            "_model_module": "@jupyter-widgets/controls",
            "_model_module_version": "1.5.0",
            "_model_name": "HTMLModel",
            "_view_count": null,
            "_view_module": "@jupyter-widgets/controls",
            "_view_module_version": "1.5.0",
            "_view_name": "HTMLView",
            "description": "",
            "description_tooltip": null,
            "layout": "IPY_MODEL_47dc1c8027be4dde92a0fdf1024db8a9",
            "placeholder": "​",
            "style": "IPY_MODEL_2c6db598418f405ea7c3e99f6012a97e",
            "value": " 20/20 [20:04&lt;00:00, 54.64s/it]"
          }
        },
        "21d63c2220e84dcdbe7cd8545a432adf": {
          "model_module": "@jupyter-widgets/base",
          "model_name": "LayoutModel",
          "model_module_version": "1.2.0",
          "state": {
            "_model_module": "@jupyter-widgets/base",
            "_model_module_version": "1.2.0",
            "_model_name": "LayoutModel",
            "_view_count": null,
            "_view_module": "@jupyter-widgets/base",
            "_view_module_version": "1.2.0",
            "_view_name": "LayoutView",
            "align_content": null,
            "align_items": null,
            "align_self": null,
            "border": null,
            "bottom": null,
            "display": null,
            "flex": null,
            "flex_flow": null,
            "grid_area": null,
            "grid_auto_columns": null,
            "grid_auto_flow": null,
            "grid_auto_rows": null,
            "grid_column": null,
            "grid_gap": null,
            "grid_row": null,
            "grid_template_areas": null,
            "grid_template_columns": null,
            "grid_template_rows": null,
            "height": null,
            "justify_content": null,
            "justify_items": null,
            "left": null,
            "margin": null,
            "max_height": null,
            "max_width": null,
            "min_height": null,
            "min_width": null,
            "object_fit": null,
            "object_position": null,
            "order": null,
            "overflow": null,
            "overflow_x": null,
            "overflow_y": null,
            "padding": null,
            "right": null,
            "top": null,
            "visibility": null,
            "width": null
          }
        },
        "f9ae5c311a9a43de8cbfdb7407077d41": {
          "model_module": "@jupyter-widgets/base",
          "model_name": "LayoutModel",
          "model_module_version": "1.2.0",
          "state": {
            "_model_module": "@jupyter-widgets/base",
            "_model_module_version": "1.2.0",
            "_model_name": "LayoutModel",
            "_view_count": null,
            "_view_module": "@jupyter-widgets/base",
            "_view_module_version": "1.2.0",
            "_view_name": "LayoutView",
            "align_content": null,
            "align_items": null,
            "align_self": null,
            "border": null,
            "bottom": null,
            "display": null,
            "flex": null,
            "flex_flow": null,
            "grid_area": null,
            "grid_auto_columns": null,
            "grid_auto_flow": null,
            "grid_auto_rows": null,
            "grid_column": null,
            "grid_gap": null,
            "grid_row": null,
            "grid_template_areas": null,
            "grid_template_columns": null,
            "grid_template_rows": null,
            "height": null,
            "justify_content": null,
            "justify_items": null,
            "left": null,
            "margin": null,
            "max_height": null,
            "max_width": null,
            "min_height": null,
            "min_width": null,
            "object_fit": null,
            "object_position": null,
            "order": null,
            "overflow": null,
            "overflow_x": null,
            "overflow_y": null,
            "padding": null,
            "right": null,
            "top": null,
            "visibility": null,
            "width": null
          }
        },
        "8c04c371f031431fb23105ad9c4ec730": {
          "model_module": "@jupyter-widgets/controls",
          "model_name": "DescriptionStyleModel",
          "model_module_version": "1.5.0",
          "state": {
            "_model_module": "@jupyter-widgets/controls",
            "_model_module_version": "1.5.0",
            "_model_name": "DescriptionStyleModel",
            "_view_count": null,
            "_view_module": "@jupyter-widgets/base",
            "_view_module_version": "1.2.0",
            "_view_name": "StyleView",
            "description_width": ""
          }
        },
        "206de8d2bbb1494fadafc774b8032232": {
          "model_module": "@jupyter-widgets/base",
          "model_name": "LayoutModel",
          "model_module_version": "1.2.0",
          "state": {
            "_model_module": "@jupyter-widgets/base",
            "_model_module_version": "1.2.0",
            "_model_name": "LayoutModel",
            "_view_count": null,
            "_view_module": "@jupyter-widgets/base",
            "_view_module_version": "1.2.0",
            "_view_name": "LayoutView",
            "align_content": null,
            "align_items": null,
            "align_self": null,
            "border": null,
            "bottom": null,
            "display": null,
            "flex": null,
            "flex_flow": null,
            "grid_area": null,
            "grid_auto_columns": null,
            "grid_auto_flow": null,
            "grid_auto_rows": null,
            "grid_column": null,
            "grid_gap": null,
            "grid_row": null,
            "grid_template_areas": null,
            "grid_template_columns": null,
            "grid_template_rows": null,
            "height": null,
            "justify_content": null,
            "justify_items": null,
            "left": null,
            "margin": null,
            "max_height": null,
            "max_width": null,
            "min_height": null,
            "min_width": null,
            "object_fit": null,
            "object_position": null,
            "order": null,
            "overflow": null,
            "overflow_x": null,
            "overflow_y": null,
            "padding": null,
            "right": null,
            "top": null,
            "visibility": null,
            "width": null
          }
        },
        "8cc7717058874f188dbeca71b3bf646d": {
          "model_module": "@jupyter-widgets/controls",
          "model_name": "ProgressStyleModel",
          "model_module_version": "1.5.0",
          "state": {
            "_model_module": "@jupyter-widgets/controls",
            "_model_module_version": "1.5.0",
            "_model_name": "ProgressStyleModel",
            "_view_count": null,
            "_view_module": "@jupyter-widgets/base",
            "_view_module_version": "1.2.0",
            "_view_name": "StyleView",
            "bar_color": null,
            "description_width": ""
          }
        },
        "47dc1c8027be4dde92a0fdf1024db8a9": {
          "model_module": "@jupyter-widgets/base",
          "model_name": "LayoutModel",
          "model_module_version": "1.2.0",
          "state": {
            "_model_module": "@jupyter-widgets/base",
            "_model_module_version": "1.2.0",
            "_model_name": "LayoutModel",
            "_view_count": null,
            "_view_module": "@jupyter-widgets/base",
            "_view_module_version": "1.2.0",
            "_view_name": "LayoutView",
            "align_content": null,
            "align_items": null,
            "align_self": null,
            "border": null,
            "bottom": null,
            "display": null,
            "flex": null,
            "flex_flow": null,
            "grid_area": null,
            "grid_auto_columns": null,
            "grid_auto_flow": null,
            "grid_auto_rows": null,
            "grid_column": null,
            "grid_gap": null,
            "grid_row": null,
            "grid_template_areas": null,
            "grid_template_columns": null,
            "grid_template_rows": null,
            "height": null,
            "justify_content": null,
            "justify_items": null,
            "left": null,
            "margin": null,
            "max_height": null,
            "max_width": null,
            "min_height": null,
            "min_width": null,
            "object_fit": null,
            "object_position": null,
            "order": null,
            "overflow": null,
            "overflow_x": null,
            "overflow_y": null,
            "padding": null,
            "right": null,
            "top": null,
            "visibility": null,
            "width": null
          }
        },
        "2c6db598418f405ea7c3e99f6012a97e": {
          "model_module": "@jupyter-widgets/controls",
          "model_name": "DescriptionStyleModel",
          "model_module_version": "1.5.0",
          "state": {
            "_model_module": "@jupyter-widgets/controls",
            "_model_module_version": "1.5.0",
            "_model_name": "DescriptionStyleModel",
            "_view_count": null,
            "_view_module": "@jupyter-widgets/base",
            "_view_module_version": "1.2.0",
            "_view_name": "StyleView",
            "description_width": ""
          }
        }
      }
    }
  },
  "nbformat_minor": 0,
  "nbformat": 4,
  "cells": [
    {
      "cell_type": "code",
      "source": [
        "import numpy as np\n",
        "import pandas as pd\n",
        "import matplotlib.pyplot as plt\n",
        "import seaborn as sns\n",
        "import scipy.sparse as sp\n",
        "from itertools import islice, cycle\n",
        "from more_itertools import pairwise\n",
        "from tqdm.auto import tqdm"
      ],
      "metadata": {
        "_uuid": "8f2839f25d086af736a60e9eeb907d3b93b6e0e5",
        "_cell_guid": "b1076dfc-b9ad-4769-8c92-a6c4dae69d19",
        "execution": {
          "iopub.status.busy": "2022-04-03T21:03:45.655178Z",
          "iopub.execute_input": "2022-04-03T21:03:45.655690Z",
          "iopub.status.idle": "2022-04-03T21:03:46.496101Z",
          "shell.execute_reply.started": "2022-04-03T21:03:45.655601Z",
          "shell.execute_reply": "2022-04-03T21:03:46.495391Z"
        },
        "trusted": true,
        "id": "VvhMfrUjTzru"
      },
      "execution_count": 4,
      "outputs": []
    },
    {
      "cell_type": "code",
      "source": [
        "ratings = pd.read_csv('/content/drive/MyDrive/test/VK/rating.csv', parse_dates=['timestamp'])\n",
        "ratings.head()"
      ],
      "metadata": {
        "execution": {
          "iopub.status.busy": "2022-04-03T21:13:45.876069Z",
          "iopub.execute_input": "2022-04-03T21:13:45.876659Z",
          "iopub.status.idle": "2022-04-03T21:14:31.629758Z",
          "shell.execute_reply.started": "2022-04-03T21:13:45.876619Z",
          "shell.execute_reply": "2022-04-03T21:14:31.628189Z"
        },
        "trusted": true,
        "colab": {
          "base_uri": "https://localhost:8080/",
          "height": 206
        },
        "id": "GAmQOXL5Tzrw",
        "outputId": "4b2d15f8-5060-4f26-db65-3df709984903"
      },
      "execution_count": 7,
      "outputs": [
        {
          "output_type": "execute_result",
          "data": {
            "text/plain": [
              "   userId  movieId  rating           timestamp\n",
              "0       1        2     3.5 2005-04-02 23:53:47\n",
              "1       1       29     3.5 2005-04-02 23:31:16\n",
              "2       1       32     3.5 2005-04-02 23:33:39\n",
              "3       1       47     3.5 2005-04-02 23:32:07\n",
              "4       1       50     3.5 2005-04-02 23:29:40"
            ],
            "text/html": [
              "\n",
              "  <div id=\"df-f9dac514-75fe-434c-b1d3-911b12b34402\">\n",
              "    <div class=\"colab-df-container\">\n",
              "      <div>\n",
              "<style scoped>\n",
              "    .dataframe tbody tr th:only-of-type {\n",
              "        vertical-align: middle;\n",
              "    }\n",
              "\n",
              "    .dataframe tbody tr th {\n",
              "        vertical-align: top;\n",
              "    }\n",
              "\n",
              "    .dataframe thead th {\n",
              "        text-align: right;\n",
              "    }\n",
              "</style>\n",
              "<table border=\"1\" class=\"dataframe\">\n",
              "  <thead>\n",
              "    <tr style=\"text-align: right;\">\n",
              "      <th></th>\n",
              "      <th>userId</th>\n",
              "      <th>movieId</th>\n",
              "      <th>rating</th>\n",
              "      <th>timestamp</th>\n",
              "    </tr>\n",
              "  </thead>\n",
              "  <tbody>\n",
              "    <tr>\n",
              "      <th>0</th>\n",
              "      <td>1</td>\n",
              "      <td>2</td>\n",
              "      <td>3.5</td>\n",
              "      <td>2005-04-02 23:53:47</td>\n",
              "    </tr>\n",
              "    <tr>\n",
              "      <th>1</th>\n",
              "      <td>1</td>\n",
              "      <td>29</td>\n",
              "      <td>3.5</td>\n",
              "      <td>2005-04-02 23:31:16</td>\n",
              "    </tr>\n",
              "    <tr>\n",
              "      <th>2</th>\n",
              "      <td>1</td>\n",
              "      <td>32</td>\n",
              "      <td>3.5</td>\n",
              "      <td>2005-04-02 23:33:39</td>\n",
              "    </tr>\n",
              "    <tr>\n",
              "      <th>3</th>\n",
              "      <td>1</td>\n",
              "      <td>47</td>\n",
              "      <td>3.5</td>\n",
              "      <td>2005-04-02 23:32:07</td>\n",
              "    </tr>\n",
              "    <tr>\n",
              "      <th>4</th>\n",
              "      <td>1</td>\n",
              "      <td>50</td>\n",
              "      <td>3.5</td>\n",
              "      <td>2005-04-02 23:29:40</td>\n",
              "    </tr>\n",
              "  </tbody>\n",
              "</table>\n",
              "</div>\n",
              "      <button class=\"colab-df-convert\" onclick=\"convertToInteractive('df-f9dac514-75fe-434c-b1d3-911b12b34402')\"\n",
              "              title=\"Convert this dataframe to an interactive table.\"\n",
              "              style=\"display:none;\">\n",
              "        \n",
              "  <svg xmlns=\"http://www.w3.org/2000/svg\" height=\"24px\"viewBox=\"0 0 24 24\"\n",
              "       width=\"24px\">\n",
              "    <path d=\"M0 0h24v24H0V0z\" fill=\"none\"/>\n",
              "    <path d=\"M18.56 5.44l.94 2.06.94-2.06 2.06-.94-2.06-.94-.94-2.06-.94 2.06-2.06.94zm-11 1L8.5 8.5l.94-2.06 2.06-.94-2.06-.94L8.5 2.5l-.94 2.06-2.06.94zm10 10l.94 2.06.94-2.06 2.06-.94-2.06-.94-.94-2.06-.94 2.06-2.06.94z\"/><path d=\"M17.41 7.96l-1.37-1.37c-.4-.4-.92-.59-1.43-.59-.52 0-1.04.2-1.43.59L10.3 9.45l-7.72 7.72c-.78.78-.78 2.05 0 2.83L4 21.41c.39.39.9.59 1.41.59.51 0 1.02-.2 1.41-.59l7.78-7.78 2.81-2.81c.8-.78.8-2.07 0-2.86zM5.41 20L4 18.59l7.72-7.72 1.47 1.35L5.41 20z\"/>\n",
              "  </svg>\n",
              "      </button>\n",
              "      \n",
              "  <style>\n",
              "    .colab-df-container {\n",
              "      display:flex;\n",
              "      flex-wrap:wrap;\n",
              "      gap: 12px;\n",
              "    }\n",
              "\n",
              "    .colab-df-convert {\n",
              "      background-color: #E8F0FE;\n",
              "      border: none;\n",
              "      border-radius: 50%;\n",
              "      cursor: pointer;\n",
              "      display: none;\n",
              "      fill: #1967D2;\n",
              "      height: 32px;\n",
              "      padding: 0 0 0 0;\n",
              "      width: 32px;\n",
              "    }\n",
              "\n",
              "    .colab-df-convert:hover {\n",
              "      background-color: #E2EBFA;\n",
              "      box-shadow: 0px 1px 2px rgba(60, 64, 67, 0.3), 0px 1px 3px 1px rgba(60, 64, 67, 0.15);\n",
              "      fill: #174EA6;\n",
              "    }\n",
              "\n",
              "    [theme=dark] .colab-df-convert {\n",
              "      background-color: #3B4455;\n",
              "      fill: #D2E3FC;\n",
              "    }\n",
              "\n",
              "    [theme=dark] .colab-df-convert:hover {\n",
              "      background-color: #434B5C;\n",
              "      box-shadow: 0px 1px 3px 1px rgba(0, 0, 0, 0.15);\n",
              "      filter: drop-shadow(0px 1px 2px rgba(0, 0, 0, 0.3));\n",
              "      fill: #FFFFFF;\n",
              "    }\n",
              "  </style>\n",
              "\n",
              "      <script>\n",
              "        const buttonEl =\n",
              "          document.querySelector('#df-f9dac514-75fe-434c-b1d3-911b12b34402 button.colab-df-convert');\n",
              "        buttonEl.style.display =\n",
              "          google.colab.kernel.accessAllowed ? 'block' : 'none';\n",
              "\n",
              "        async function convertToInteractive(key) {\n",
              "          const element = document.querySelector('#df-f9dac514-75fe-434c-b1d3-911b12b34402');\n",
              "          const dataTable =\n",
              "            await google.colab.kernel.invokeFunction('convertToInteractive',\n",
              "                                                     [key], {});\n",
              "          if (!dataTable) return;\n",
              "\n",
              "          const docLinkHtml = 'Like what you see? Visit the ' +\n",
              "            '<a target=\"_blank\" href=https://colab.research.google.com/notebooks/data_table.ipynb>data table notebook</a>'\n",
              "            + ' to learn more about interactive tables.';\n",
              "          element.innerHTML = '';\n",
              "          dataTable['output_type'] = 'display_data';\n",
              "          await google.colab.output.renderOutput(dataTable, element);\n",
              "          const docLink = document.createElement('div');\n",
              "          docLink.innerHTML = docLinkHtml;\n",
              "          element.appendChild(docLink);\n",
              "        }\n",
              "      </script>\n",
              "    </div>\n",
              "  </div>\n",
              "  "
            ]
          },
          "metadata": {},
          "execution_count": 7
        }
      ]
    },
    {
      "cell_type": "code",
      "source": [
        "movies = pd.read_csv('/content/drive/MyDrive/test/VK/movie.csv')\n",
        "movies.head()"
      ],
      "metadata": {
        "execution": {
          "iopub.status.busy": "2022-04-03T21:04:42.659410Z",
          "iopub.execute_input": "2022-04-03T21:04:42.660375Z",
          "iopub.status.idle": "2022-04-03T21:04:42.713718Z",
          "shell.execute_reply.started": "2022-04-03T21:04:42.660342Z",
          "shell.execute_reply": "2022-04-03T21:04:42.713030Z"
        },
        "trusted": true,
        "colab": {
          "base_uri": "https://localhost:8080/",
          "height": 206
        },
        "id": "7cMY4YopTzrx",
        "outputId": "b183fe85-50d1-4690-f8b0-dadf8a0bc8fb"
      },
      "execution_count": 8,
      "outputs": [
        {
          "output_type": "execute_result",
          "data": {
            "text/plain": [
              "   movieId                               title  \\\n",
              "0        1                    Toy Story (1995)   \n",
              "1        2                      Jumanji (1995)   \n",
              "2        3             Grumpier Old Men (1995)   \n",
              "3        4            Waiting to Exhale (1995)   \n",
              "4        5  Father of the Bride Part II (1995)   \n",
              "\n",
              "                                        genres  \n",
              "0  Adventure|Animation|Children|Comedy|Fantasy  \n",
              "1                   Adventure|Children|Fantasy  \n",
              "2                               Comedy|Romance  \n",
              "3                         Comedy|Drama|Romance  \n",
              "4                                       Comedy  "
            ],
            "text/html": [
              "\n",
              "  <div id=\"df-d6b7636d-36cb-42ab-be0d-ead1f1cb1204\">\n",
              "    <div class=\"colab-df-container\">\n",
              "      <div>\n",
              "<style scoped>\n",
              "    .dataframe tbody tr th:only-of-type {\n",
              "        vertical-align: middle;\n",
              "    }\n",
              "\n",
              "    .dataframe tbody tr th {\n",
              "        vertical-align: top;\n",
              "    }\n",
              "\n",
              "    .dataframe thead th {\n",
              "        text-align: right;\n",
              "    }\n",
              "</style>\n",
              "<table border=\"1\" class=\"dataframe\">\n",
              "  <thead>\n",
              "    <tr style=\"text-align: right;\">\n",
              "      <th></th>\n",
              "      <th>movieId</th>\n",
              "      <th>title</th>\n",
              "      <th>genres</th>\n",
              "    </tr>\n",
              "  </thead>\n",
              "  <tbody>\n",
              "    <tr>\n",
              "      <th>0</th>\n",
              "      <td>1</td>\n",
              "      <td>Toy Story (1995)</td>\n",
              "      <td>Adventure|Animation|Children|Comedy|Fantasy</td>\n",
              "    </tr>\n",
              "    <tr>\n",
              "      <th>1</th>\n",
              "      <td>2</td>\n",
              "      <td>Jumanji (1995)</td>\n",
              "      <td>Adventure|Children|Fantasy</td>\n",
              "    </tr>\n",
              "    <tr>\n",
              "      <th>2</th>\n",
              "      <td>3</td>\n",
              "      <td>Grumpier Old Men (1995)</td>\n",
              "      <td>Comedy|Romance</td>\n",
              "    </tr>\n",
              "    <tr>\n",
              "      <th>3</th>\n",
              "      <td>4</td>\n",
              "      <td>Waiting to Exhale (1995)</td>\n",
              "      <td>Comedy|Drama|Romance</td>\n",
              "    </tr>\n",
              "    <tr>\n",
              "      <th>4</th>\n",
              "      <td>5</td>\n",
              "      <td>Father of the Bride Part II (1995)</td>\n",
              "      <td>Comedy</td>\n",
              "    </tr>\n",
              "  </tbody>\n",
              "</table>\n",
              "</div>\n",
              "      <button class=\"colab-df-convert\" onclick=\"convertToInteractive('df-d6b7636d-36cb-42ab-be0d-ead1f1cb1204')\"\n",
              "              title=\"Convert this dataframe to an interactive table.\"\n",
              "              style=\"display:none;\">\n",
              "        \n",
              "  <svg xmlns=\"http://www.w3.org/2000/svg\" height=\"24px\"viewBox=\"0 0 24 24\"\n",
              "       width=\"24px\">\n",
              "    <path d=\"M0 0h24v24H0V0z\" fill=\"none\"/>\n",
              "    <path d=\"M18.56 5.44l.94 2.06.94-2.06 2.06-.94-2.06-.94-.94-2.06-.94 2.06-2.06.94zm-11 1L8.5 8.5l.94-2.06 2.06-.94-2.06-.94L8.5 2.5l-.94 2.06-2.06.94zm10 10l.94 2.06.94-2.06 2.06-.94-2.06-.94-.94-2.06-.94 2.06-2.06.94z\"/><path d=\"M17.41 7.96l-1.37-1.37c-.4-.4-.92-.59-1.43-.59-.52 0-1.04.2-1.43.59L10.3 9.45l-7.72 7.72c-.78.78-.78 2.05 0 2.83L4 21.41c.39.39.9.59 1.41.59.51 0 1.02-.2 1.41-.59l7.78-7.78 2.81-2.81c.8-.78.8-2.07 0-2.86zM5.41 20L4 18.59l7.72-7.72 1.47 1.35L5.41 20z\"/>\n",
              "  </svg>\n",
              "      </button>\n",
              "      \n",
              "  <style>\n",
              "    .colab-df-container {\n",
              "      display:flex;\n",
              "      flex-wrap:wrap;\n",
              "      gap: 12px;\n",
              "    }\n",
              "\n",
              "    .colab-df-convert {\n",
              "      background-color: #E8F0FE;\n",
              "      border: none;\n",
              "      border-radius: 50%;\n",
              "      cursor: pointer;\n",
              "      display: none;\n",
              "      fill: #1967D2;\n",
              "      height: 32px;\n",
              "      padding: 0 0 0 0;\n",
              "      width: 32px;\n",
              "    }\n",
              "\n",
              "    .colab-df-convert:hover {\n",
              "      background-color: #E2EBFA;\n",
              "      box-shadow: 0px 1px 2px rgba(60, 64, 67, 0.3), 0px 1px 3px 1px rgba(60, 64, 67, 0.15);\n",
              "      fill: #174EA6;\n",
              "    }\n",
              "\n",
              "    [theme=dark] .colab-df-convert {\n",
              "      background-color: #3B4455;\n",
              "      fill: #D2E3FC;\n",
              "    }\n",
              "\n",
              "    [theme=dark] .colab-df-convert:hover {\n",
              "      background-color: #434B5C;\n",
              "      box-shadow: 0px 1px 3px 1px rgba(0, 0, 0, 0.15);\n",
              "      filter: drop-shadow(0px 1px 2px rgba(0, 0, 0, 0.3));\n",
              "      fill: #FFFFFF;\n",
              "    }\n",
              "  </style>\n",
              "\n",
              "      <script>\n",
              "        const buttonEl =\n",
              "          document.querySelector('#df-d6b7636d-36cb-42ab-be0d-ead1f1cb1204 button.colab-df-convert');\n",
              "        buttonEl.style.display =\n",
              "          google.colab.kernel.accessAllowed ? 'block' : 'none';\n",
              "\n",
              "        async function convertToInteractive(key) {\n",
              "          const element = document.querySelector('#df-d6b7636d-36cb-42ab-be0d-ead1f1cb1204');\n",
              "          const dataTable =\n",
              "            await google.colab.kernel.invokeFunction('convertToInteractive',\n",
              "                                                     [key], {});\n",
              "          if (!dataTable) return;\n",
              "\n",
              "          const docLinkHtml = 'Like what you see? Visit the ' +\n",
              "            '<a target=\"_blank\" href=https://colab.research.google.com/notebooks/data_table.ipynb>data table notebook</a>'\n",
              "            + ' to learn more about interactive tables.';\n",
              "          element.innerHTML = '';\n",
              "          dataTable['output_type'] = 'display_data';\n",
              "          await google.colab.output.renderOutput(dataTable, element);\n",
              "          const docLink = document.createElement('div');\n",
              "          docLink.innerHTML = docLinkHtml;\n",
              "          element.appendChild(docLink);\n",
              "        }\n",
              "      </script>\n",
              "    </div>\n",
              "  </div>\n",
              "  "
            ]
          },
          "metadata": {},
          "execution_count": 8
        }
      ]
    },
    {
      "cell_type": "code",
      "source": [
        "# Достанем год выпуска фильма\n",
        "movies['year'] = movies['title'].map(lambda x: x[x.find('(')+1:x.find(')')])"
      ],
      "metadata": {
        "execution": {
          "iopub.status.busy": "2022-04-03T21:04:42.716077Z",
          "iopub.execute_input": "2022-04-03T21:04:42.716432Z",
          "iopub.status.idle": "2022-04-03T21:04:42.740172Z",
          "shell.execute_reply.started": "2022-04-03T21:04:42.716393Z",
          "shell.execute_reply": "2022-04-03T21:04:42.739314Z"
        },
        "trusted": true,
        "id": "mMFHpu8ATzrx"
      },
      "execution_count": 9,
      "outputs": []
    },
    {
      "cell_type": "code",
      "source": [
        "# Посмотрим, как менялась популярность 3 самых просматриваемых фильмов\n",
        "popular_movies = ratings[ratings['movieId'].isin(ratings['movieId'].value_counts()[:3].index)]\n",
        "popular_movies.head()\n",
        "\n",
        "fig, axes = plt.subplots(3, figsize=(10, 16))\n",
        "\n",
        "sns.histplot(popular_movies.query('movieId == 296')['timestamp'], ax=axes[0])\n",
        "axes[0].set_title(list(movies.query('movieId == 296').title)[0])\n",
        "sns.histplot(popular_movies.query('movieId == 318')['timestamp'], ax=axes[1])\n",
        "axes[1].set_title(list(movies.query('movieId == 318').title)[0])\n",
        "sns.histplot(popular_movies.query('movieId == 356')['timestamp'], ax=axes[2])\n",
        "axes[2].set_title(list(movies.query('movieId == 356').title)[0])\n",
        "\n",
        "plt.show()"
      ],
      "metadata": {
        "execution": {
          "iopub.status.busy": "2022-04-03T21:11:51.439169Z",
          "iopub.execute_input": "2022-04-03T21:11:51.439924Z",
          "iopub.status.idle": "2022-04-03T21:11:54.497621Z",
          "shell.execute_reply.started": "2022-04-03T21:11:51.439872Z",
          "shell.execute_reply": "2022-04-03T21:11:54.496951Z"
        },
        "trusted": true,
        "id": "qQNOCFwwTzry",
        "colab": {
          "base_uri": "https://localhost:8080/",
          "height": 948
        },
        "outputId": "5e07bb86-bf9c-43ed-f7a4-aa65dd554319"
      },
      "execution_count": 55,
      "outputs": [
        {
          "output_type": "display_data",
          "data": {
            "text/plain": [
              "<Figure size 720x1152 with 3 Axes>"
            ],
            "image/png": "[encoded data removed]"
          },
          "metadata": {
            "needs_background": "light"
          }
        }
      ]
    },
    {
      "cell_type": "code",
      "source": [
        "# Оставим фильмы, которые просматривали больше 4 раз\n",
        "movie_frec = ratings['movieId'].value_counts()\n",
        "ratings = ratings[ratings['movieId'].isin(movie_frec[movie_frec >= 5].index)]"
      ],
      "metadata": {
        "execution": {
          "iopub.status.busy": "2022-04-03T21:14:31.631519Z",
          "iopub.execute_input": "2022-04-03T21:14:31.631793Z",
          "iopub.status.idle": "2022-04-03T21:14:32.828578Z",
          "shell.execute_reply.started": "2022-04-03T21:14:31.631757Z",
          "shell.execute_reply": "2022-04-03T21:14:32.827833Z"
        },
        "trusted": true,
        "id": "r768I8NMTzrz"
      },
      "execution_count": 11,
      "outputs": []
    },
    {
      "cell_type": "code",
      "source": [
        "users_inv_mapping = dict(enumerate(ratings['userId'].unique()))\n",
        "users_mapping = {v: k for k, v in users_inv_mapping.items()}"
      ],
      "metadata": {
        "execution": {
          "iopub.status.busy": "2022-04-03T21:14:32.829961Z",
          "iopub.execute_input": "2022-04-03T21:14:32.830232Z",
          "iopub.status.idle": "2022-04-03T21:14:32.978752Z",
          "shell.execute_reply.started": "2022-04-03T21:14:32.830196Z",
          "shell.execute_reply": "2022-04-03T21:14:32.977929Z"
        },
        "trusted": true,
        "id": "VMsxiTWaTzrz"
      },
      "execution_count": 12,
      "outputs": []
    },
    {
      "cell_type": "code",
      "source": [
        "items_inv_mapping = dict(enumerate(np.sort(ratings['movieId'].unique())))\n",
        "items_mapping = {v: k for k, v in items_inv_mapping.items()}\n",
        "len(items_mapping)"
      ],
      "metadata": {
        "execution": {
          "iopub.status.busy": "2022-04-03T21:14:32.981269Z",
          "iopub.execute_input": "2022-04-03T21:14:32.981573Z",
          "iopub.status.idle": "2022-04-03T21:14:33.128656Z",
          "shell.execute_reply.started": "2022-04-03T21:14:32.981533Z",
          "shell.execute_reply": "2022-04-03T21:14:33.127917Z"
        },
        "trusted": true,
        "id": "0GVE8i6TTzrz",
        "colab": {
          "base_uri": "https://localhost:8080/"
        },
        "outputId": "a462f8d2-d3bf-4bb9-b41e-0b832843ba76"
      },
      "execution_count": 13,
      "outputs": [
        {
          "output_type": "execute_result",
          "data": {
            "text/plain": [
              "18345"
            ]
          },
          "metadata": {},
          "execution_count": 13
        }
      ]
    },
    {
      "cell_type": "code",
      "source": [
        "print(f\"Количество пользователей: {ratings['userId'].nunique()}\")\n",
        "print(f\"Количество фильмов: {ratings['movieId'].nunique()}\")"
      ],
      "metadata": {
        "execution": {
          "iopub.status.busy": "2022-04-03T21:05:16.357189Z",
          "iopub.execute_input": "2022-04-03T21:05:16.357876Z",
          "iopub.status.idle": "2022-04-03T21:05:16.574537Z",
          "shell.execute_reply.started": "2022-04-03T21:05:16.357838Z",
          "shell.execute_reply": "2022-04-03T21:05:16.573807Z"
        },
        "trusted": true,
        "id": "vhZf07xeTzr0",
        "colab": {
          "base_uri": "https://localhost:8080/"
        },
        "outputId": "17b93667-cc0c-494f-e251-a4b28f81bb5d"
      },
      "execution_count": 14,
      "outputs": [
        {
          "output_type": "stream",
          "name": "stdout",
          "text": [
            "Количество пользователей: 138493\n",
            "Количество фильмов: 18345\n"
          ]
        }
      ]
    },
    {
      "cell_type": "code",
      "source": [
        "max_date = ratings['timestamp'].max()\n",
        "min_date = ratings['timestamp'].min()\n",
        "\n",
        "print(f\"min дата в ratings: {min_date}\")\n",
        "print(f\"max дата в ratings: {max_date}\")"
      ],
      "metadata": {
        "execution": {
          "iopub.status.busy": "2022-04-03T21:14:33.129731Z",
          "iopub.execute_input": "2022-04-03T21:14:33.129969Z",
          "iopub.status.idle": "2022-04-03T21:14:33.251699Z",
          "shell.execute_reply.started": "2022-04-03T21:14:33.129934Z",
          "shell.execute_reply": "2022-04-03T21:14:33.250976Z"
        },
        "trusted": true,
        "id": "tmARHkBjTzr0",
        "colab": {
          "base_uri": "https://localhost:8080/"
        },
        "outputId": "68e9e58d-23ef-40ad-f585-3c98d8b11daf"
      },
      "execution_count": 15,
      "outputs": [
        {
          "output_type": "stream",
          "name": "stdout",
          "text": [
            "min дата в ratings: 1995-01-09 11:46:44\n",
            "max дата в ratings: 2015-03-31 06:40:02\n"
          ]
        }
      ]
    },
    {
      "cell_type": "code",
      "source": [
        "# Делим датасет на тренировочную и тестовую часть\n",
        "train = ratings[(ratings['timestamp'] < max_date - pd.Timedelta(days=7))]\n",
        "test = ratings[(ratings['timestamp'] >= max_date - pd.Timedelta(days=7))]\n",
        "\n",
        "# Будем предсказывать только на горячих пользователях\n",
        "test = test[test['userId'].isin(train['userId'].unique())]"
      ],
      "metadata": {
        "execution": {
          "iopub.status.busy": "2022-04-03T21:14:33.252973Z",
          "iopub.execute_input": "2022-04-03T21:14:33.253246Z",
          "iopub.status.idle": "2022-04-03T21:14:34.057743Z",
          "shell.execute_reply.started": "2022-04-03T21:14:33.253212Z",
          "shell.execute_reply": "2022-04-03T21:14:34.057009Z"
        },
        "trusted": true,
        "id": "92kTE2rQTzr1"
      },
      "execution_count": 16,
      "outputs": []
    },
    {
      "cell_type": "code",
      "source": [
        "def get_coo_matrix(df, \n",
        "                   user_col='userId', \n",
        "                   item_col='movieId', \n",
        "                   weight_col='rating', \n",
        "                   users_mapping=users_mapping, \n",
        "                   items_mapping=items_mapping):\n",
        "    if weight_col is None:\n",
        "        weights = np.ones(len(df), dtype=np.float32)\n",
        "    else:\n",
        "        weights = df[weight_col].astype(np.float32)\n",
        "\n",
        "    interaction_matrix = sp.coo_matrix((\n",
        "        weights, \n",
        "        (\n",
        "            df[user_col].map(users_mapping.get), \n",
        "            df[item_col].map(items_mapping.get)\n",
        "        )\n",
        "    ))\n",
        "    return interaction_matrix"
      ],
      "metadata": {
        "execution": {
          "iopub.status.busy": "2022-04-03T21:06:18.132838Z",
          "iopub.execute_input": "2022-04-03T21:06:18.133098Z",
          "iopub.status.idle": "2022-04-03T21:06:18.140668Z",
          "shell.execute_reply.started": "2022-04-03T21:06:18.133067Z",
          "shell.execute_reply": "2022-04-03T21:06:18.139980Z"
        },
        "trusted": true,
        "id": "MRd5jWGOTzr1"
      },
      "execution_count": 17,
      "outputs": []
    },
    {
      "cell_type": "code",
      "source": [
        "def compute_metrics(df_true, df_pred, top_N):\n",
        "    result = {}\n",
        "    test_recs = df_true.set_index(['userId', 'movieId']).join(df_pred.set_index(['userId', 'movieId']))\n",
        "    test_recs = test_recs.sort_values(by=['userId', 'rank'])\n",
        "\n",
        "    test_recs['users_item_count'] = test_recs.groupby(level='userId')['rank'].transform(np.size)\n",
        "    test_recs['reciprocal_rank'] = (1 / test_recs['rank']).fillna(0)\n",
        "    test_recs['cumulative_rank'] = test_recs.groupby(level='userId').cumcount() + 1\n",
        "    test_recs['cumulative_rank'] = test_recs['cumulative_rank'] / test_recs['rank']\n",
        "    \n",
        "    users_count = test_recs.index.get_level_values('userId').nunique()\n",
        "    k = top_N\n",
        "    hit_k = f'hit@{k}'\n",
        "    test_recs[hit_k] = test_recs['rank'] <= k\n",
        "    result[f'Precision@{k}'] = (test_recs[hit_k] / k).sum() / users_count\n",
        "    result[f'Recall@{k}'] = (test_recs[hit_k] / test_recs['users_item_count']).sum() / users_count\n",
        "\n",
        "    result[f'MAP@{top_N}'] = (test_recs[\"cumulative_rank\"] / test_recs[\"users_item_count\"]).sum() / users_count\n",
        "    result[f'MRR'] = test_recs.groupby(level='userId')['reciprocal_rank'].max().mean()\n",
        "    return pd.Series(result)"
      ],
      "metadata": {
        "execution": {
          "iopub.status.busy": "2022-04-03T21:06:23.869461Z",
          "iopub.execute_input": "2022-04-03T21:06:23.869709Z",
          "iopub.status.idle": "2022-04-03T21:06:23.878860Z",
          "shell.execute_reply.started": "2022-04-03T21:06:23.869679Z",
          "shell.execute_reply": "2022-04-03T21:06:23.878170Z"
        },
        "trusted": true,
        "id": "iUE7mXFRTzr2"
      },
      "execution_count": 18,
      "outputs": []
    },
    {
      "cell_type": "markdown",
      "source": [
        "# implicit ALS"
      ],
      "metadata": {
        "id": "fjFnFV3nTzr3"
      }
    },
    {
      "cell_type": "code",
      "source": [
        "!pip install implicit==0.4.4"
      ],
      "metadata": {
        "colab": {
          "base_uri": "https://localhost:8080/"
        },
        "id": "Chm8vT0WdKDC",
        "outputId": "6cdfb394-ce0d-4c66-8b04-7ebb2aede25b"
      },
      "execution_count": 21,
      "outputs": [
        {
          "output_type": "stream",
          "name": "stdout",
          "text": [
            "Collecting implicit==0.4.4\n",
            "  Downloading implicit-0.4.4.tar.gz (1.1 MB)\n",
            "\u001b[K     |████████████████████████████████| 1.1 MB 5.2 MB/s \n",
            "\u001b[?25hRequirement already satisfied: numpy in /usr/local/lib/python3.7/dist-packages (from implicit==0.4.4) (1.21.5)\n",
            "Requirement already satisfied: scipy>=0.16 in /usr/local/lib/python3.7/dist-packages (from implicit==0.4.4) (1.4.1)\n",
            "Requirement already satisfied: tqdm>=4.27 in /usr/local/lib/python3.7/dist-packages (from implicit==0.4.4) (4.63.0)\n",
            "Building wheels for collected packages: implicit\n",
            "  Building wheel for implicit (setup.py) ... \u001b[?25l\u001b[?25hdone\n",
            "  Created wheel for implicit: filename=implicit-0.4.4-cp37-cp37m-linux_x86_64.whl size=3413744 sha256=ac070e0da8ca4c5e27800f8ad86930baf87d2cd96b35cb619d3e88fb29494dd0\n",
            "  Stored in directory: /root/.cache/pip/wheels/44/7e/7d/a17324ea207cfbe76aca878b5b8ca0aa932cf55d163329be37\n",
            "Successfully built implicit\n",
            "Installing collected packages: implicit\n",
            "Successfully installed implicit-0.4.4\n"
          ]
        }
      ]
    },
    {
      "cell_type": "code",
      "source": [
        "from implicit.als import AlternatingLeastSquares\n",
        "\n",
        "def generate_implicit_recs_mapper(model, train_matrix, N, user_mapping, item_inv_mapping):\n",
        "    def _recs_mapper(user):\n",
        "        userId = user_mapping[user]\n",
        "        recs = model.recommend(userId, \n",
        "                               train_matrix, \n",
        "                               N=N, \n",
        "                               filter_already_liked_items=True)\n",
        "        return [item_inv_mapping[item] for item, _ in recs]\n",
        "    return _recs_mapper"
      ],
      "metadata": {
        "execution": {
          "iopub.status.busy": "2022-04-03T21:06:26.522845Z",
          "iopub.execute_input": "2022-04-03T21:06:26.523388Z",
          "iopub.status.idle": "2022-04-03T21:06:26.601555Z",
          "shell.execute_reply.started": "2022-04-03T21:06:26.523348Z",
          "shell.execute_reply": "2022-04-03T21:06:26.600855Z"
        },
        "trusted": true,
        "id": "AFoAIbXxTzr4"
      },
      "execution_count": 22,
      "outputs": []
    },
    {
      "cell_type": "markdown",
      "source": [
        "## Обучение модели и получение списка рекомендаций"
      ],
      "metadata": {
        "id": "0Ys5Gh52Tzr5"
      }
    },
    {
      "cell_type": "code",
      "source": [
        "train_matrix[0].toarray()"
      ],
      "metadata": {
        "colab": {
          "base_uri": "https://localhost:8080/"
        },
        "id": "LXCEgjQKo-3x",
        "outputId": "502d1e7b-b626-41bd-ec5f-32b9431fca7a"
      },
      "execution_count": 51,
      "outputs": [
        {
          "output_type": "execute_result",
          "data": {
            "text/plain": [
              "array([[0. , 3.5, 0. , ..., 0. , 0. , 0. ]], dtype=float32)"
            ]
          },
          "metadata": {},
          "execution_count": 51
        }
      ]
    },
    {
      "cell_type": "code",
      "source": [
        "top_N = 15\n",
        "\n",
        "train_matrix = get_coo_matrix(train).tocsr()\n",
        "\n",
        "als_model = AlternatingLeastSquares(factors=32, iterations=30, num_threads=4)\n",
        "als_model.fit(train_matrix.T)\n",
        "\n",
        "mapper = generate_implicit_recs_mapper(als_model, train_matrix, top_N, users_mapping, items_inv_mapping)\n",
        "\n",
        "recs_als = pd.DataFrame({\n",
        "    'userId': test['userId'].unique()\n",
        "})\n",
        "recs_als['movieId'] = recs_als['userId'].map(mapper)\n",
        "recs_als = recs_als.explode('movieId')\n",
        "recs_als['rank'] = recs_als.groupby('userId').cumcount() + 1\n",
        "metrics_als = compute_metrics(test, recs_als, top_N)"
      ],
      "metadata": {
        "execution": {
          "iopub.status.busy": "2022-04-03T21:14:34.058951Z",
          "iopub.execute_input": "2022-04-03T21:14:34.059559Z",
          "iopub.status.idle": "2022-04-03T21:15:14.268817Z",
          "shell.execute_reply.started": "2022-04-03T21:14:34.059513Z",
          "shell.execute_reply": "2022-04-03T21:15:14.267607Z"
        },
        "trusted": true,
        "id": "3J_ImpntTzr5"
      },
      "execution_count": 77,
      "outputs": []
    },
    {
      "cell_type": "code",
      "source": [
        "recs_als"
      ],
      "metadata": {
        "colab": {
          "base_uri": "https://localhost:8080/",
          "height": 423
        },
        "id": "XHCs2UJ8uE1_",
        "outputId": "b1990f40-e81b-4714-e4b2-4129ad2c293d"
      },
      "execution_count": 87,
      "outputs": [
        {
          "output_type": "execute_result",
          "data": {
            "text/plain": [
              "     userId movieId  rank\n",
              "0        96   82209     1\n",
              "0        96    8800     2\n",
              "0        96   59392     3\n",
              "0        96   43897     4\n",
              "0        96   68486     5\n",
              "..      ...     ...   ...\n",
              "737  138186   59392     6\n",
              "737  138186  118924     7\n",
              "737  138186   92498     8\n",
              "737  138186   83468     9\n",
              "737  138186    1161    10\n",
              "\n",
              "[7380 rows x 3 columns]"
            ],
            "text/html": [
              "\n",
              "  <div id=\"df-9b2f425b-e75f-4072-a0bf-f5e61728fca2\">\n",
              "    <div class=\"colab-df-container\">\n",
              "      <div>\n",
              "<style scoped>\n",
              "    .dataframe tbody tr th:only-of-type {\n",
              "        vertical-align: middle;\n",
              "    }\n",
              "\n",
              "    .dataframe tbody tr th {\n",
              "        vertical-align: top;\n",
              "    }\n",
              "\n",
              "    .dataframe thead th {\n",
              "        text-align: right;\n",
              "    }\n",
              "</style>\n",
              "<table border=\"1\" class=\"dataframe\">\n",
              "  <thead>\n",
              "    <tr style=\"text-align: right;\">\n",
              "      <th></th>\n",
              "      <th>userId</th>\n",
              "      <th>movieId</th>\n",
              "      <th>rank</th>\n",
              "    </tr>\n",
              "  </thead>\n",
              "  <tbody>\n",
              "    <tr>\n",
              "      <th>0</th>\n",
              "      <td>96</td>\n",
              "      <td>82209</td>\n",
              "      <td>1</td>\n",
              "    </tr>\n",
              "    <tr>\n",
              "      <th>0</th>\n",
              "      <td>96</td>\n",
              "      <td>8800</td>\n",
              "      <td>2</td>\n",
              "    </tr>\n",
              "    <tr>\n",
              "      <th>0</th>\n",
              "      <td>96</td>\n",
              "      <td>59392</td>\n",
              "      <td>3</td>\n",
              "    </tr>\n",
              "    <tr>\n",
              "      <th>0</th>\n",
              "      <td>96</td>\n",
              "      <td>43897</td>\n",
              "      <td>4</td>\n",
              "    </tr>\n",
              "    <tr>\n",
              "      <th>0</th>\n",
              "      <td>96</td>\n",
              "      <td>68486</td>\n",
              "      <td>5</td>\n",
              "    </tr>\n",
              "    <tr>\n",
              "      <th>...</th>\n",
              "      <td>...</td>\n",
              "      <td>...</td>\n",
              "      <td>...</td>\n",
              "    </tr>\n",
              "    <tr>\n",
              "      <th>737</th>\n",
              "      <td>138186</td>\n",
              "      <td>59392</td>\n",
              "      <td>6</td>\n",
              "    </tr>\n",
              "    <tr>\n",
              "      <th>737</th>\n",
              "      <td>138186</td>\n",
              "      <td>118924</td>\n",
              "      <td>7</td>\n",
              "    </tr>\n",
              "    <tr>\n",
              "      <th>737</th>\n",
              "      <td>138186</td>\n",
              "      <td>92498</td>\n",
              "      <td>8</td>\n",
              "    </tr>\n",
              "    <tr>\n",
              "      <th>737</th>\n",
              "      <td>138186</td>\n",
              "      <td>83468</td>\n",
              "      <td>9</td>\n",
              "    </tr>\n",
              "    <tr>\n",
              "      <th>737</th>\n",
              "      <td>138186</td>\n",
              "      <td>1161</td>\n",
              "      <td>10</td>\n",
              "    </tr>\n",
              "  </tbody>\n",
              "</table>\n",
              "<p>7380 rows × 3 columns</p>\n",
              "</div>\n",
              "      <button class=\"colab-df-convert\" onclick=\"convertToInteractive('df-9b2f425b-e75f-4072-a0bf-f5e61728fca2')\"\n",
              "              title=\"Convert this dataframe to an interactive table.\"\n",
              "              style=\"display:none;\">\n",
              "        \n",
              "  <svg xmlns=\"http://www.w3.org/2000/svg\" height=\"24px\"viewBox=\"0 0 24 24\"\n",
              "       width=\"24px\">\n",
              "    <path d=\"M0 0h24v24H0V0z\" fill=\"none\"/>\n",
              "    <path d=\"M18.56 5.44l.94 2.06.94-2.06 2.06-.94-2.06-.94-.94-2.06-.94 2.06-2.06.94zm-11 1L8.5 8.5l.94-2.06 2.06-.94-2.06-.94L8.5 2.5l-.94 2.06-2.06.94zm10 10l.94 2.06.94-2.06 2.06-.94-2.06-.94-.94-2.06-.94 2.06-2.06.94z\"/><path d=\"M17.41 7.96l-1.37-1.37c-.4-.4-.92-.59-1.43-.59-.52 0-1.04.2-1.43.59L10.3 9.45l-7.72 7.72c-.78.78-.78 2.05 0 2.83L4 21.41c.39.39.9.59 1.41.59.51 0 1.02-.2 1.41-.59l7.78-7.78 2.81-2.81c.8-.78.8-2.07 0-2.86zM5.41 20L4 18.59l7.72-7.72 1.47 1.35L5.41 20z\"/>\n",
              "  </svg>\n",
              "      </button>\n",
              "      \n",
              "  <style>\n",
              "    .colab-df-container {\n",
              "      display:flex;\n",
              "      flex-wrap:wrap;\n",
              "      gap: 12px;\n",
              "    }\n",
              "\n",
              "    .colab-df-convert {\n",
              "      background-color: #E8F0FE;\n",
              "      border: none;\n",
              "      border-radius: 50%;\n",
              "      cursor: pointer;\n",
              "      display: none;\n",
              "      fill: #1967D2;\n",
              "      height: 32px;\n",
              "      padding: 0 0 0 0;\n",
              "      width: 32px;\n",
              "    }\n",
              "\n",
              "    .colab-df-convert:hover {\n",
              "      background-color: #E2EBFA;\n",
              "      box-shadow: 0px 1px 2px rgba(60, 64, 67, 0.3), 0px 1px 3px 1px rgba(60, 64, 67, 0.15);\n",
              "      fill: #174EA6;\n",
              "    }\n",
              "\n",
              "    [theme=dark] .colab-df-convert {\n",
              "      background-color: #3B4455;\n",
              "      fill: #D2E3FC;\n",
              "    }\n",
              "\n",
              "    [theme=dark] .colab-df-convert:hover {\n",
              "      background-color: #434B5C;\n",
              "      box-shadow: 0px 1px 3px 1px rgba(0, 0, 0, 0.15);\n",
              "      filter: drop-shadow(0px 1px 2px rgba(0, 0, 0, 0.3));\n",
              "      fill: #FFFFFF;\n",
              "    }\n",
              "  </style>\n",
              "\n",
              "      <script>\n",
              "        const buttonEl =\n",
              "          document.querySelector('#df-9b2f425b-e75f-4072-a0bf-f5e61728fca2 button.colab-df-convert');\n",
              "        buttonEl.style.display =\n",
              "          google.colab.kernel.accessAllowed ? 'block' : 'none';\n",
              "\n",
              "        async function convertToInteractive(key) {\n",
              "          const element = document.querySelector('#df-9b2f425b-e75f-4072-a0bf-f5e61728fca2');\n",
              "          const dataTable =\n",
              "            await google.colab.kernel.invokeFunction('convertToInteractive',\n",
              "                                                     [key], {});\n",
              "          if (!dataTable) return;\n",
              "\n",
              "          const docLinkHtml = 'Like what you see? Visit the ' +\n",
              "            '<a target=\"_blank\" href=https://colab.research.google.com/notebooks/data_table.ipynb>data table notebook</a>'\n",
              "            + ' to learn more about interactive tables.';\n",
              "          element.innerHTML = '';\n",
              "          dataTable['output_type'] = 'display_data';\n",
              "          await google.colab.output.renderOutput(dataTable, element);\n",
              "          const docLink = document.createElement('div');\n",
              "          docLink.innerHTML = docLinkHtml;\n",
              "          element.appendChild(docLink);\n",
              "        }\n",
              "      </script>\n",
              "    </div>\n",
              "  </div>\n",
              "  "
            ]
          },
          "metadata": {},
          "execution_count": 87
        }
      ]
    },
    {
      "cell_type": "code",
      "source": [
        "metrics_als"
      ],
      "metadata": {
        "execution": {
          "iopub.status.busy": "2022-04-03T21:15:18.844917Z",
          "iopub.execute_input": "2022-04-03T21:15:18.845194Z",
          "iopub.status.idle": "2022-04-03T21:15:18.851928Z",
          "shell.execute_reply.started": "2022-04-03T21:15:18.845161Z",
          "shell.execute_reply": "2022-04-03T21:15:18.851048Z"
        },
        "trusted": true,
        "id": "gXhPDY-vTzr6",
        "colab": {
          "base_uri": "https://localhost:8080/"
        },
        "outputId": "beba7b52-c6d7-475f-ba97-5a6cf5424488"
      },
      "execution_count": 59,
      "outputs": [
        {
          "output_type": "execute_result",
          "data": {
            "text/plain": [
              "Precision@15    0.031165\n",
              "Recall@15       0.049359\n",
              "MAP@15          0.016692\n",
              "MRR             0.088207\n",
              "dtype: float64"
            ]
          },
          "metadata": {},
          "execution_count": 59
        }
      ]
    },
    {
      "cell_type": "markdown",
      "source": [
        "# LightFM"
      ],
      "metadata": {
        "id": "07PO1v2HTzr6"
      }
    },
    {
      "cell_type": "code",
      "source": [
        "!pip install lightfm \n",
        "from lightfm.data import Dataset\n",
        "from lightfm import LightFM"
      ],
      "metadata": {
        "execution": {
          "iopub.status.busy": "2022-04-03T21:15:22.927824Z",
          "iopub.execute_input": "2022-04-03T21:15:22.928228Z",
          "iopub.status.idle": "2022-04-03T21:15:22.934996Z",
          "shell.execute_reply.started": "2022-04-03T21:15:22.928195Z",
          "shell.execute_reply": "2022-04-03T21:15:22.932683Z"
        },
        "trusted": true,
        "id": "ulQzNrZjTzr6",
        "colab": {
          "base_uri": "https://localhost:8080/"
        },
        "outputId": "af76e9ff-ec82-4ad6-8fff-f744cca0550f"
      },
      "execution_count": 32,
      "outputs": [
        {
          "output_type": "stream",
          "name": "stdout",
          "text": [
            "Collecting lightfm\n",
            "  Downloading lightfm-1.16.tar.gz (310 kB)\n",
            "\u001b[K     |████████████████████████████████| 310 kB 4.7 MB/s \n",
            "\u001b[?25hRequirement already satisfied: numpy in /usr/local/lib/python3.7/dist-packages (from lightfm) (1.21.5)\n",
            "Requirement already satisfied: scipy>=0.17.0 in /usr/local/lib/python3.7/dist-packages (from lightfm) (1.4.1)\n",
            "Requirement already satisfied: requests in /usr/local/lib/python3.7/dist-packages (from lightfm) (2.23.0)\n",
            "Requirement already satisfied: scikit-learn in /usr/local/lib/python3.7/dist-packages (from lightfm) (1.0.2)\n",
            "Requirement already satisfied: idna<3,>=2.5 in /usr/local/lib/python3.7/dist-packages (from requests->lightfm) (2.10)\n",
            "Requirement already satisfied: chardet<4,>=3.0.2 in /usr/local/lib/python3.7/dist-packages (from requests->lightfm) (3.0.4)\n",
            "Requirement already satisfied: urllib3!=1.25.0,!=1.25.1,<1.26,>=1.21.1 in /usr/local/lib/python3.7/dist-packages (from requests->lightfm) (1.24.3)\n",
            "Requirement already satisfied: certifi>=2017.4.17 in /usr/local/lib/python3.7/dist-packages (from requests->lightfm) (2021.10.8)\n",
            "Requirement already satisfied: threadpoolctl>=2.0.0 in /usr/local/lib/python3.7/dist-packages (from scikit-learn->lightfm) (3.1.0)\n",
            "Requirement already satisfied: joblib>=0.11 in /usr/local/lib/python3.7/dist-packages (from scikit-learn->lightfm) (1.1.0)\n",
            "Building wheels for collected packages: lightfm\n",
            "  Building wheel for lightfm (setup.py) ... \u001b[?25l\u001b[?25hdone\n",
            "  Created wheel for lightfm: filename=lightfm-1.16-cp37-cp37m-linux_x86_64.whl size=705381 sha256=4332426b7ee99d07299f9ce4b73f09af29043d7b93618cd97c7960789534a9d8\n",
            "  Stored in directory: /root/.cache/pip/wheels/f8/56/28/5772a3bd3413d65f03aa452190b00898b680b10028a1021914\n",
            "Successfully built lightfm\n",
            "Installing collected packages: lightfm\n",
            "Successfully installed lightfm-1.16\n"
          ]
        }
      ]
    },
    {
      "cell_type": "code",
      "source": [
        "dataset = Dataset()\n",
        "dataset.fit(ratings['userId'].unique(), ratings['movieId'].unique())"
      ],
      "metadata": {
        "execution": {
          "iopub.status.busy": "2022-04-03T21:15:24.204944Z",
          "iopub.execute_input": "2022-04-03T21:15:24.205501Z",
          "iopub.status.idle": "2022-04-03T21:15:24.528747Z",
          "shell.execute_reply.started": "2022-04-03T21:15:24.205461Z",
          "shell.execute_reply": "2022-04-03T21:15:24.527963Z"
        },
        "trusted": true,
        "id": "LItMlyVZTzr7"
      },
      "execution_count": 33,
      "outputs": []
    },
    {
      "cell_type": "code",
      "source": [
        "# Получим список жанров\n",
        "movies = movies[movies['movieId'].isin(ratings['movieId'].unique())]\n",
        "genres = list(movies['genres'].str.split('|').explode().unique())\n",
        "movies['features'] = movies['genres'].str.split('|')\n",
        "\n",
        "dataset.fit_partial(item_features=genres)"
      ],
      "metadata": {
        "execution": {
          "iopub.status.busy": "2022-04-03T21:20:52.998260Z",
          "iopub.execute_input": "2022-04-03T21:20:52.998586Z",
          "iopub.status.idle": "2022-04-03T21:20:53.168367Z",
          "shell.execute_reply.started": "2022-04-03T21:20:52.998539Z",
          "shell.execute_reply": "2022-04-03T21:20:53.167520Z"
        },
        "trusted": true,
        "id": "uDQYLPiETzr7",
        "colab": {
          "base_uri": "https://localhost:8080/"
        },
        "outputId": "8a16aa29-3517-418c-820b-08fe2a71636b"
      },
      "execution_count": 34,
      "outputs": [
        {
          "output_type": "stream",
          "name": "stderr",
          "text": [
            "/usr/local/lib/python3.7/dist-packages/ipykernel_launcher.py:4: SettingWithCopyWarning: \n",
            "A value is trying to be set on a copy of a slice from a DataFrame.\n",
            "Try using .loc[row_indexer,col_indexer] = value instead\n",
            "\n",
            "See the caveats in the documentation: https://pandas.pydata.org/pandas-docs/stable/user_guide/indexing.html#returning-a-view-versus-a-copy\n",
            "  after removing the cwd from sys.path.\n"
          ]
        }
      ]
    },
    {
      "cell_type": "code",
      "source": [
        "lightfm_mapping = dataset.mapping()\n",
        "lightfm_mapping = {\n",
        "    'users_mapping': lightfm_mapping[0],\n",
        "    'items_mapping': lightfm_mapping[2],\n",
        "    'item_features_mapping': lightfm_mapping[3],\n",
        "}"
      ],
      "metadata": {
        "execution": {
          "iopub.status.busy": "2022-04-03T21:15:27.049399Z",
          "iopub.execute_input": "2022-04-03T21:15:27.049858Z",
          "iopub.status.idle": "2022-04-03T21:15:27.055744Z",
          "shell.execute_reply.started": "2022-04-03T21:15:27.049821Z",
          "shell.execute_reply": "2022-04-03T21:15:27.053192Z"
        },
        "trusted": true,
        "id": "uHUpNGcoTzr7"
      },
      "execution_count": 35,
      "outputs": []
    },
    {
      "cell_type": "code",
      "source": [
        "# Построение матрицы взаимодействий вида: [(user_id1, item_id1, weight), (user_id2, item_id2, weight), ...]\n",
        "interactions_matrix, weights_matrix = dataset.build_interactions(\n",
        "    zip(*train[['userId', 'movieId', 'rating']].values.T)\n",
        ")"
      ],
      "metadata": {
        "execution": {
          "iopub.status.busy": "2022-04-03T21:15:29.129804Z",
          "iopub.execute_input": "2022-04-03T21:15:29.130091Z",
          "iopub.status.idle": "2022-04-03T21:18:10.745590Z",
          "shell.execute_reply.started": "2022-04-03T21:15:29.130057Z",
          "shell.execute_reply": "2022-04-03T21:18:10.744835Z"
        },
        "trusted": true,
        "id": "UpcI9qFATzr8"
      },
      "execution_count": 36,
      "outputs": []
    },
    {
      "cell_type": "code",
      "source": [
        "def concat_last_to_list(t):\n",
        "    return (t[0], list(t[1:])[0])\n",
        "\n",
        "def df_to_tuple_list_iterator(df):\n",
        "    return map(concat_last_to_list, zip(*df.values.T))"
      ],
      "metadata": {
        "execution": {
          "iopub.status.busy": "2022-04-03T21:18:10.747321Z",
          "iopub.execute_input": "2022-04-03T21:18:10.747575Z",
          "iopub.status.idle": "2022-04-03T21:18:10.753761Z",
          "shell.execute_reply.started": "2022-04-03T21:18:10.747527Z",
          "shell.execute_reply": "2022-04-03T21:18:10.752986Z"
        },
        "trusted": true,
        "id": "wXaEu_BhTzr8"
      },
      "execution_count": 37,
      "outputs": []
    },
    {
      "cell_type": "code",
      "source": [
        "# Построение матрицы фичей вида: (1, ['Adventure', 'Animation', 'Children', 'Comedy', 'Fantasy'])\n",
        "movies = movies[movies['movieId'].isin(ratings['movieId'].unique())]\n",
        "\n",
        "train_items_features = dataset.build_item_features(\n",
        "    df_to_tuple_list_iterator(\n",
        "        movies[['movieId', 'features']]\n",
        "    )\n",
        ")"
      ],
      "metadata": {
        "execution": {
          "iopub.status.busy": "2022-04-03T21:21:05.905170Z",
          "iopub.execute_input": "2022-04-03T21:21:05.905501Z",
          "iopub.status.idle": "2022-04-03T21:21:06.272501Z",
          "shell.execute_reply.started": "2022-04-03T21:21:05.905466Z",
          "shell.execute_reply": "2022-04-03T21:21:06.271800Z"
        },
        "trusted": true,
        "id": "MRh1W6dOTzr8"
      },
      "execution_count": 38,
      "outputs": []
    },
    {
      "cell_type": "markdown",
      "source": [
        "## Обучение модели LightFM"
      ],
      "metadata": {
        "id": "7j9z1Fz2Tzr9"
      }
    },
    {
      "cell_type": "code",
      "source": [
        "lfm_model = LightFM(\n",
        "    no_components=64, \n",
        "    learning_rate=0.1, \n",
        "    loss='warp', \n",
        "    max_sampled=5, \n",
        "    random_state=42\n",
        ")\n",
        "\n",
        "num_epochs = 20\n",
        "for _ in tqdm(range(num_epochs), total=num_epochs):\n",
        "    lfm_model.fit_partial(\n",
        "        weights_matrix,\n",
        "        item_features=train_items_features,\n",
        "        num_threads=4\n",
        "    )"
      ],
      "metadata": {
        "execution": {
          "iopub.status.busy": "2022-04-03T19:42:09.745029Z",
          "iopub.execute_input": "2022-04-03T19:42:09.745350Z",
          "iopub.status.idle": "2022-04-03T19:53:09.167801Z",
          "shell.execute_reply.started": "2022-04-03T19:42:09.745311Z",
          "shell.execute_reply": "2022-04-03T19:53:09.166721Z"
        },
        "trusted": true,
        "id": "nvtQCqi0Tzr9",
        "colab": {
          "base_uri": "https://localhost:8080/",
          "height": 49,
          "referenced_widgets": [
            "b7a1b73ebd294d4bbb9268006f30cf4c",
            "a0e28df9073b4044b013b515fe28ed37",
            "ec671b6e40964c12a52ee73010498dee",
            "059084db5f724744a3202902d1bd6733",
            "21d63c2220e84dcdbe7cd8545a432adf",
            "f9ae5c311a9a43de8cbfdb7407077d41",
            "8c04c371f031431fb23105ad9c4ec730",
            "206de8d2bbb1494fadafc774b8032232",
            "8cc7717058874f188dbeca71b3bf646d",
            "47dc1c8027be4dde92a0fdf1024db8a9",
            "2c6db598418f405ea7c3e99f6012a97e"
          ]
        },
        "outputId": "653511f9-8fde-4a0e-af20-d132aef44c22"
      },
      "execution_count": 39,
      "outputs": [
        {
          "output_type": "display_data",
          "data": {
            "text/plain": [
              "  0%|          | 0/20 [00:00<?, ?it/s]"
            ],
            "application/vnd.jupyter.widget-view+json": {
              "version_major": 2,
              "version_minor": 0,
              "model_id": "b7a1b73ebd294d4bbb9268006f30cf4c"
            }
          },
          "metadata": {}
        }
      ]
    },
    {
      "cell_type": "code",
      "source": [
        "def generate_lightfm_recs_mapper(model, item_ids, known_items, item_features, N, user_mapping, item_inv_mapping, num_threads=4):\n",
        "    def _recs_mapper(user):\n",
        "        user_id = user_mapping[user]\n",
        "        recs = model.predict(user_id, item_ids, item_features=item_features, num_threads=num_threads)\n",
        "        \n",
        "        additional_N = len(known_items[user_id]) if user_id in known_items else 0\n",
        "        total_N = N + additional_N\n",
        "        top_cols = np.argpartition(recs, -np.arange(total_N))[-total_N:][::-1]\n",
        "        \n",
        "        final_recs = [item_inv_mapping[item] for item in top_cols]\n",
        "        if additional_N > 0:\n",
        "            filter_items = known_items[user_id]\n",
        "            final_recs = [item for item in final_recs if item not in filter_items]\n",
        "        return final_recs[:N]\n",
        "    return _recs_mapper"
      ],
      "metadata": {
        "execution": {
          "iopub.status.busy": "2022-04-03T20:04:20.198309Z",
          "iopub.execute_input": "2022-04-03T20:04:20.198824Z",
          "iopub.status.idle": "2022-04-03T20:04:20.209396Z",
          "shell.execute_reply.started": "2022-04-03T20:04:20.198794Z",
          "shell.execute_reply": "2022-04-03T20:04:20.207860Z"
        },
        "trusted": true,
        "id": "ahCXnZh7Tzr9"
      },
      "execution_count": 40,
      "outputs": []
    },
    {
      "cell_type": "code",
      "source": [
        "known_items = train.groupby('userId')['movieId'].apply(list).to_dict()\n",
        "len(known_items)\n",
        "\n",
        "all_cols = list(lightfm_mapping['items_mapping'].values())"
      ],
      "metadata": {
        "execution": {
          "iopub.status.busy": "2022-04-03T20:01:38.864304Z",
          "iopub.execute_input": "2022-04-03T20:01:38.864571Z",
          "iopub.status.idle": "2022-04-03T20:01:38.869251Z",
          "shell.execute_reply.started": "2022-04-03T20:01:38.864544Z",
          "shell.execute_reply": "2022-04-03T20:01:38.868514Z"
        },
        "trusted": true,
        "id": "w8OJnpKYTzr-"
      },
      "execution_count": 41,
      "outputs": []
    },
    {
      "cell_type": "code",
      "source": [
        "lightfm_mapping['items_inv_mapping'] = {v: k for k, v in lightfm_mapping['items_mapping'].items()}"
      ],
      "metadata": {
        "id": "HurKP3cBoBum"
      },
      "execution_count": 43,
      "outputs": []
    },
    {
      "cell_type": "code",
      "source": [
        "mapper = generate_lightfm_recs_mapper(\n",
        "    lfm_model, \n",
        "    item_ids=all_cols, \n",
        "    known_items=known_items,\n",
        "    N=top_N,\n",
        "    item_features=train_items_features, \n",
        "    user_mapping=lightfm_mapping['users_mapping'],\n",
        "    item_inv_mapping=lightfm_mapping['items_inv_mapping'],\n",
        "    num_threads=4\n",
        ")\n",
        "\n",
        "recs_lightfm = pd.DataFrame({\n",
        "    'userId': test['userId'].unique()\n",
        "})\n",
        "recs_lightfm['movieId'] = recs_lightfm['userId'].map(mapper)\n",
        "recs_lightfm = recs_lightfm.explode('movieId')\n",
        "recs_lightfm['rank'] = recs_lightfm.groupby('userId').cumcount() + 1\n",
        "metrics_lightfm = compute_metrics(test, recs_lightfm, top_N)\n",
        "metrics_lightfm"
      ],
      "metadata": {
        "execution": {
          "iopub.status.busy": "2022-04-03T20:09:21.389279Z",
          "iopub.execute_input": "2022-04-03T20:09:21.389583Z",
          "iopub.status.idle": "2022-04-03T20:09:21.395195Z",
          "shell.execute_reply.started": "2022-04-03T20:09:21.389554Z",
          "shell.execute_reply": "2022-04-03T20:09:21.394190Z"
        },
        "trusted": true,
        "id": "ucwtmRZjTzr-",
        "colab": {
          "base_uri": "https://localhost:8080/"
        },
        "outputId": "ca74005c-43cb-4afc-9b4c-575f9c169483"
      },
      "execution_count": 45,
      "outputs": [
        {
          "output_type": "execute_result",
          "data": {
            "text/plain": [
              "Precision@15    0.008762\n",
              "Recall@15       0.009864\n",
              "MAP@15          0.002242\n",
              "MRR             0.018949\n",
              "dtype: float64"
            ]
          },
          "metadata": {},
          "execution_count": 45
        }
      ]
    }
  ]
}